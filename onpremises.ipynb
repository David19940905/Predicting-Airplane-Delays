{
 "cells": [
  {
   "cell_type": "markdown",
   "metadata": {
    "jp-MarkdownHeadingCollapsed": true
   },
   "source": [
    "# Problem: Predicting Airplane Delays\n",
    "\n",
    "The goals of this notebook are:\n",
    "- Process and create a dataset from downloaded ZIP files\n",
    "- Exploratory data analysis (EDA)\n",
    "- Establish a baseline model and improve it\n",
    "\n",
    "## Introduction to business scenario\n",
    "You work for a travel booking website that is working to improve the customer experience for flights that were delayed. The company wants to create a feature to let customers know if the flight will be delayed due to weather when the customers are booking the flight to or from the busiest airports for domestic travel in the US. \n",
    "\n",
    "You are tasked with solving part of this problem by leveraging machine learning to identify whether the flight will be delayed due to weather. You have been given access to the a dataset of on-time performance of domestic flights operated by large air carriers. You can use this data to train a machine learning model to predict if the flight is going to be delayed for the busiest airports.\n",
    "\n",
    "### Dataset\n",
    "The provided dataset contains scheduled and actual departure and arrival times reported by certified US air carriers that account for at least 1 percent of domestic scheduled passenger revenues. The data was collected by the Office of Airline Information, Bureau of Transportation Statistics (BTS). The dataset contains date, time, origin, destination, airline, distance, and delay status of flights for flights between 2014 and 2018.\n",
    "The data are in 60 compressed files, where each file contains a CSV for the flight details in a month for the five years (from 2014 - 2018). The data can be downloaded from this [link](https://ucstaff-my.sharepoint.com/:f:/g/personal/ibrahim_radwan_canberra_edu_au/EhWeqeQsh-9Mr1fneZc9_0sBOBzEdXngvxFJtAlIa-eAgA?e=8ukWwa). Please download the data files and place them on a relative path. Dataset(s) used in this assignment were compiled by the Office of Airline Information, Bureau of Transportation Statistics (BTS), Airline On-Time Performance Data, available with the following [link](https://www.transtats.bts.gov/Fields.asp?gnoyr_VQ=FGJ)."
   ]
  },
  {
   "cell_type": "markdown",
   "metadata": {},
   "source": [
    "# Step 1: Problem formulation and data collection\n",
    "\n",
    "Start this project off by writing a few sentences below that summarize the business problem and the business goal you're trying to achieve in this scenario. Include a business metric you would like your team to aspire toward. With that information defined, clearly write out the machine learning problem statement. Finally, add a comment or two about the type of machine learning this represents. \n",
    "\n",
    "\n",
    "### 1. Determine if and why ML is an appropriate solution to deploy."
   ]
  },
  {
   "cell_type": "markdown",
   "metadata": {},
   "source": [
    "The goal of this project is to find if a flight will be delayed because of weather, departure time, or airline work.  \n",
    "There is a lot of flight data from many years and airports, so it is hard for people to find delay patterns by hand.  \n",
    "Machine learning can help find links between different types of data, like numbers and categories.\n"
   ]
  },
  {
   "cell_type": "markdown",
   "metadata": {},
   "source": [
    "### 2. Formulate the business problem, success metrics, and desired ML output."
   ]
  },
  {
   "cell_type": "markdown",
   "metadata": {},
   "source": [
    "Business Problem:\n",
    "The company wants to make the flight booking experience better by giving customers early notices about possible flight delays, especially those caused by weather, at the busiest U.S. airports.\n",
    "\n",
    "Business Goal:\n",
    "Build a model that can predict if a flight will be delayed because of weather when the customer books it. This helps improve customer satisfaction and helps people make better travel choices.\n",
    "\n",
    "Success Metrics:\n",
    "- Accuracy - shows how many predictions are correct overall. High accuracy means the model seems to perform well, but if most flights aren’t delayed, the model could just predict “no delay” for almost all cases and still look good. So, we can’t rely only on accuracy to judge the model.\n",
    "\n",
    "- Recall (Sensitivity) - more important, because missing a real delay (false negative) is worse than giving a false alert (false positive).\n",
    "\n",
    "Most flights are not delayed, so Recall helps the model find real delay cases in this unbalanced dataset.\n",
    "\n",
    "Desired ML Output\n",
    "A label showing if a flight will be: Delayed and Not Delayed\n",
    "\n"
   ]
  },
  {
   "cell_type": "markdown",
   "metadata": {},
   "source": [
    "### 3. Identify the type of ML problem you’re dealing with."
   ]
  },
  {
   "cell_type": "markdown",
   "metadata": {},
   "source": [
    "This task represents a supervised learning problem — specifically a binary classification task.\n",
    "The model will learn from historical flight data labeled with delay outcomes to classify future flights as either delayed or on-time."
   ]
  },
  {
   "cell_type": "markdown",
   "metadata": {},
   "source": [
    "### Setup\n",
    "\n",
    "Now that we have decided where to focus our energy, let's set things up so you can start working on solving the problem."
   ]
  },
  {
   "cell_type": "code",
   "execution_count": 211,
   "metadata": {},
   "outputs": [],
   "source": [
    "import os\n",
    "from pathlib import Path\n",
    "from zipfile import ZipFile\n",
    "import time\n",
    "\n",
    "import pandas as pd\n",
    "import numpy as np\n",
    "import subprocess\n",
    "\n",
    "import matplotlib.pyplot as plt\n",
    "import seaborn as sns\n",
    "\n",
    "sns.set()\n",
    "\n",
    "import warnings\n",
    "warnings.filterwarnings('ignore')\n",
    "\n",
    "%matplotlib inline\n"
   ]
  },
  {
   "cell_type": "markdown",
   "metadata": {},
   "source": [
    "# Step 2: Data preprocessing and visualization  \n",
    "In this data preprocessing phase, you should take the opportunity to explore and visualize your data to better understand it. First, import the necessary libraries and read the data into a Pandas dataframe. After that, explore your data. Look for the shape of the dataset and explore your columns and the types of columns you're working with (numerical, categorical). Consider performing basic statistics on the features to get a sense of feature means and ranges. Take a close look at your target column and determine its distribution.\n",
    "\n",
    "### Specific questions to consider\n",
    "1. What can you deduce from the basic statistics you ran on the features? \n",
    "\n",
    "2. What can you deduce from the distributions of the target classes?\n",
    "\n",
    "3. Is there anything else you deduced from exploring the data?"
   ]
  },
  {
   "cell_type": "markdown",
   "metadata": {},
   "source": [
    "Start by bringing in the dataset from an Amazon S3 public bucket to this notebook environment."
   ]
  },
  {
   "cell_type": "code",
   "execution_count": 212,
   "metadata": {},
   "outputs": [],
   "source": [
    "# Initialize relative paths for folders\n",
    "base_path = os.getcwd()\n",
    "zip_path = os.path.join(base_path, 'data_compressed')\n",
    "csv_base_path = os.path.join(base_path, 'data')\n",
    "\n",
    "# Create the folder if it doesn't exist\n",
    "os.makedirs(csv_base_path, exist_ok=True)"
   ]
  },
  {
   "cell_type": "code",
   "execution_count": 213,
   "metadata": {},
   "outputs": [
    {
     "name": "stdout",
     "output_type": "stream",
     "text": [
      "Total files found: 60\n"
     ]
    }
   ],
   "source": [
    "# Number of Zip files\n",
    "num_files = len(os.listdir(zip_path))\n",
    "print(f\"Total files found:\",num_files)"
   ]
  },
  {
   "cell_type": "code",
   "execution_count": 214,
   "metadata": {},
   "outputs": [],
   "source": [
    "def get_zip_file_paths(zip_directory):\n",
    "    \"\"\"Return full paths of all .zip files in the specified directory.\"\"\"\n",
    "    return [\n",
    "        os.path.join(zip_directory, f)\n",
    "        for f in os.listdir(zip_directory)\n",
    "        if f.lower().endswith('.zip')\n",
    "    ]\n",
    "\n",
    "# Use the function\n",
    "zip_files = get_zip_file_paths(zip_path)\n"
   ]
  },
  {
   "cell_type": "markdown",
   "metadata": {},
   "source": [
    "#### Extract CSV files from ZIP files"
   ]
  },
  {
   "cell_type": "code",
   "execution_count": 215,
   "metadata": {},
   "outputs": [
    {
     "name": "stdout",
     "output_type": "stream",
     "text": [
      "Extracting D:\\data\\data_compressed\\On_Time_Reporting_Carrier_On_Time_Performance_1987_present_2014_1.zip \n",
      "Extracting D:\\data\\data_compressed\\On_Time_Reporting_Carrier_On_Time_Performance_1987_present_2014_10.zip \n",
      "Extracting D:\\data\\data_compressed\\On_Time_Reporting_Carrier_On_Time_Performance_1987_present_2014_11.zip \n",
      "Extracting D:\\data\\data_compressed\\On_Time_Reporting_Carrier_On_Time_Performance_1987_present_2014_12.zip \n",
      "Extracting D:\\data\\data_compressed\\On_Time_Reporting_Carrier_On_Time_Performance_1987_present_2014_2.zip \n",
      "Extracting D:\\data\\data_compressed\\On_Time_Reporting_Carrier_On_Time_Performance_1987_present_2014_3.zip \n",
      "Extracting D:\\data\\data_compressed\\On_Time_Reporting_Carrier_On_Time_Performance_1987_present_2014_4.zip \n",
      "Extracting D:\\data\\data_compressed\\On_Time_Reporting_Carrier_On_Time_Performance_1987_present_2014_5.zip \n",
      "Extracting D:\\data\\data_compressed\\On_Time_Reporting_Carrier_On_Time_Performance_1987_present_2014_6.zip \n",
      "Extracting D:\\data\\data_compressed\\On_Time_Reporting_Carrier_On_Time_Performance_1987_present_2014_7.zip \n",
      "Extracting D:\\data\\data_compressed\\On_Time_Reporting_Carrier_On_Time_Performance_1987_present_2014_8.zip \n",
      "Extracting D:\\data\\data_compressed\\On_Time_Reporting_Carrier_On_Time_Performance_1987_present_2014_9.zip \n",
      "Extracting D:\\data\\data_compressed\\On_Time_Reporting_Carrier_On_Time_Performance_1987_present_2015_1.zip \n",
      "Extracting D:\\data\\data_compressed\\On_Time_Reporting_Carrier_On_Time_Performance_1987_present_2015_10.zip \n",
      "Extracting D:\\data\\data_compressed\\On_Time_Reporting_Carrier_On_Time_Performance_1987_present_2015_11.zip \n",
      "Extracting D:\\data\\data_compressed\\On_Time_Reporting_Carrier_On_Time_Performance_1987_present_2015_12.zip \n",
      "Extracting D:\\data\\data_compressed\\On_Time_Reporting_Carrier_On_Time_Performance_1987_present_2015_2.zip \n",
      "Extracting D:\\data\\data_compressed\\On_Time_Reporting_Carrier_On_Time_Performance_1987_present_2015_3.zip \n",
      "Extracting D:\\data\\data_compressed\\On_Time_Reporting_Carrier_On_Time_Performance_1987_present_2015_4.zip \n",
      "Extracting D:\\data\\data_compressed\\On_Time_Reporting_Carrier_On_Time_Performance_1987_present_2015_5.zip \n",
      "Extracting D:\\data\\data_compressed\\On_Time_Reporting_Carrier_On_Time_Performance_1987_present_2015_6.zip \n",
      "Extracting D:\\data\\data_compressed\\On_Time_Reporting_Carrier_On_Time_Performance_1987_present_2015_7.zip \n",
      "Extracting D:\\data\\data_compressed\\On_Time_Reporting_Carrier_On_Time_Performance_1987_present_2015_8.zip \n",
      "Extracting D:\\data\\data_compressed\\On_Time_Reporting_Carrier_On_Time_Performance_1987_present_2015_9.zip \n",
      "Extracting D:\\data\\data_compressed\\On_Time_Reporting_Carrier_On_Time_Performance_1987_present_2016_1.zip \n",
      "Extracting D:\\data\\data_compressed\\On_Time_Reporting_Carrier_On_Time_Performance_1987_present_2016_10.zip \n",
      "Extracting D:\\data\\data_compressed\\On_Time_Reporting_Carrier_On_Time_Performance_1987_present_2016_11.zip \n",
      "Extracting D:\\data\\data_compressed\\On_Time_Reporting_Carrier_On_Time_Performance_1987_present_2016_12.zip \n",
      "Extracting D:\\data\\data_compressed\\On_Time_Reporting_Carrier_On_Time_Performance_1987_present_2016_2.zip \n",
      "Extracting D:\\data\\data_compressed\\On_Time_Reporting_Carrier_On_Time_Performance_1987_present_2016_3.zip \n",
      "Extracting D:\\data\\data_compressed\\On_Time_Reporting_Carrier_On_Time_Performance_1987_present_2016_4.zip \n",
      "Extracting D:\\data\\data_compressed\\On_Time_Reporting_Carrier_On_Time_Performance_1987_present_2016_5.zip \n",
      "Extracting D:\\data\\data_compressed\\On_Time_Reporting_Carrier_On_Time_Performance_1987_present_2016_6.zip \n",
      "Extracting D:\\data\\data_compressed\\On_Time_Reporting_Carrier_On_Time_Performance_1987_present_2016_7.zip \n",
      "Extracting D:\\data\\data_compressed\\On_Time_Reporting_Carrier_On_Time_Performance_1987_present_2016_8.zip \n",
      "Extracting D:\\data\\data_compressed\\On_Time_Reporting_Carrier_On_Time_Performance_1987_present_2016_9.zip \n",
      "Extracting D:\\data\\data_compressed\\On_Time_Reporting_Carrier_On_Time_Performance_1987_present_2017_1.zip \n",
      "Extracting D:\\data\\data_compressed\\On_Time_Reporting_Carrier_On_Time_Performance_1987_present_2017_10.zip \n",
      "Extracting D:\\data\\data_compressed\\On_Time_Reporting_Carrier_On_Time_Performance_1987_present_2017_11.zip \n",
      "Extracting D:\\data\\data_compressed\\On_Time_Reporting_Carrier_On_Time_Performance_1987_present_2017_12.zip \n",
      "Extracting D:\\data\\data_compressed\\On_Time_Reporting_Carrier_On_Time_Performance_1987_present_2017_2.zip \n",
      "Extracting D:\\data\\data_compressed\\On_Time_Reporting_Carrier_On_Time_Performance_1987_present_2017_3.zip \n",
      "Extracting D:\\data\\data_compressed\\On_Time_Reporting_Carrier_On_Time_Performance_1987_present_2017_4.zip \n",
      "Extracting D:\\data\\data_compressed\\On_Time_Reporting_Carrier_On_Time_Performance_1987_present_2017_5.zip \n",
      "Extracting D:\\data\\data_compressed\\On_Time_Reporting_Carrier_On_Time_Performance_1987_present_2017_6.zip \n",
      "Extracting D:\\data\\data_compressed\\On_Time_Reporting_Carrier_On_Time_Performance_1987_present_2017_7.zip \n",
      "Extracting D:\\data\\data_compressed\\On_Time_Reporting_Carrier_On_Time_Performance_1987_present_2017_8.zip \n",
      "Extracting D:\\data\\data_compressed\\On_Time_Reporting_Carrier_On_Time_Performance_1987_present_2017_9.zip \n",
      "Extracting D:\\data\\data_compressed\\On_Time_Reporting_Carrier_On_Time_Performance_1987_present_2018_1.zip \n",
      "Extracting D:\\data\\data_compressed\\On_Time_Reporting_Carrier_On_Time_Performance_1987_present_2018_10.zip \n",
      "Extracting D:\\data\\data_compressed\\On_Time_Reporting_Carrier_On_Time_Performance_1987_present_2018_11.zip \n",
      "Extracting D:\\data\\data_compressed\\On_Time_Reporting_Carrier_On_Time_Performance_1987_present_2018_12.zip \n",
      "Extracting D:\\data\\data_compressed\\On_Time_Reporting_Carrier_On_Time_Performance_1987_present_2018_2.zip \n",
      "Extracting D:\\data\\data_compressed\\On_Time_Reporting_Carrier_On_Time_Performance_1987_present_2018_3.zip \n",
      "Extracting D:\\data\\data_compressed\\On_Time_Reporting_Carrier_On_Time_Performance_1987_present_2018_4.zip \n",
      "Extracting D:\\data\\data_compressed\\On_Time_Reporting_Carrier_On_Time_Performance_1987_present_2018_5.zip \n",
      "Extracting D:\\data\\data_compressed\\On_Time_Reporting_Carrier_On_Time_Performance_1987_present_2018_6.zip \n",
      "Extracting D:\\data\\data_compressed\\On_Time_Reporting_Carrier_On_Time_Performance_1987_present_2018_7.zip \n",
      "Extracting D:\\data\\data_compressed\\On_Time_Reporting_Carrier_On_Time_Performance_1987_present_2018_8.zip \n",
      "Extracting D:\\data\\data_compressed\\On_Time_Reporting_Carrier_On_Time_Performance_1987_present_2018_9.zip \n",
      "Files Extracted\n"
     ]
    }
   ],
   "source": [
    "def zip2csv(zipFile_name , file_path):\n",
    "    \"\"\"\n",
    "    Extract csv from zip files\n",
    "    zipFile_name: name of the zip file\n",
    "    file_path : name of the folder to store csv\n",
    "    \"\"\"\n",
    "\n",
    "    try:\n",
    "        with ZipFile(zipFile_name, 'r') as z: \n",
    "            print(f'Extracting {zipFile_name} ') \n",
    "            z.extractall(path=file_path) \n",
    "    except:\n",
    "        print(f'zip2csv failed for {zipFile_name}')\n",
    "\n",
    "for file in zip_files:\n",
    "    zip2csv(file, csv_base_path)\n",
    "\n",
    "print(\"Files Extracted\")"
   ]
  },
  {
   "cell_type": "code",
   "execution_count": 217,
   "metadata": {},
   "outputs": [
    {
     "name": "stdout",
     "output_type": "stream",
     "text": [
      "Total csv files found: 60\n"
     ]
    }
   ],
   "source": [
    "csv_files = []\n",
    "for file in os.listdir(csv_base_path):\n",
    "    if file.endswith(\".csv\"):\n",
    "        csv_files.append(file)\n",
    "\n",
    "print(\"Total csv files found:\", len(csv_files))\n"
   ]
  },
  {
   "cell_type": "markdown",
   "metadata": {},
   "source": [
    "Before loading the CSV file, read the HTML file from the extracted folder. This HTML file includes the background and more information on the features included in the dataset."
   ]
  },
  {
   "cell_type": "code",
   "execution_count": 218,
   "metadata": {},
   "outputs": [
    {
     "data": {
      "text/html": [
       "<HTML>\n",
       "<HEAD>\n",
       "\t<TITLE> readme.html </TITLE>\n",
       "</HEAD>\n",
       "<BODY>\n",
       "\t<TABLE><TR><TD COLSPAN=2><H4>BACKGROUND</H4></TD></TR>\n",
       "\t<TR><TD COLSPAN=2>The data contained in the compressed file has been extracted from the \n",
       "\tReporting Carrier On-Time Performance (1987-present) data table of the \"On-Time\" database from the TranStats data library. \n",
       "\tThe time period is indicated in the name of the compressed file; \n",
       "\tfor example, XXX_XXXXX_2001_1 contains data of the first month of the year 2001. </TD></TR>\n",
       "\t<TR><TD COLSPAN=2>&nbsp;</TD></TR>\n",
       "\t<TR><TD COLSPAN=2><H4>RECORD LAYOUT</H4></TD></TR>\n",
       "\t<TR><TD COLSPAN=2>Below are fields in the order that they appear on the records:</TD></TR>\n",
       "\t<TR><TD>Year</TD><TD>Year</TD></TR>\n",
       "\t<TR><TD>Quarter</TD><TD>Quarter (1-4)</TD></TR>\n",
       "\t<TR><TD>Month</TD><TD>Month</TD></TR>\n",
       "\t<TR><TD>DayofMonth</TD><TD>Day of Month</TD></TR>\n",
       "\t<TR><TD>DayOfWeek</TD><TD>Day of Week</TD></TR>\n",
       "\t<TR><TD>FlightDate</TD><TD>Flight Date (yyyymmdd)</TD></TR>\n",
       "\t<TR><TD>Reporting_Airline</TD><TD>Unique Carrier Code. When the same code has been used by multiple carriers, a numeric suffix is used for earlier users, for example, PA, PA(1), PA(2). Use this field for analysis across a range of years.</TD></TR>\n",
       "\t<TR><TD>DOT_ID_Reporting_Airline</TD><TD>An identification number assigned by US DOT to identify a unique airline (carrier). A unique airline (carrier) is defined as one holding and reporting under the same DOT certificate regardless of its Code, Name, or holding company/corporation.</TD></TR>\n",
       "\t<TR><TD>IATA_CODE_Reporting_Airline</TD><TD>Code assigned by IATA and commonly used to identify a carrier. As the same code may have been assigned to different carriers over time, the code is not always unique. For analysis, use the Unique Carrier Code.</TD></TR>\n",
       "\t<TR><TD>Tail_Number</TD><TD>Tail Number</TD></TR>\n",
       "\t<TR><TD>Flight_Number_Reporting_Airline</TD><TD>Flight Number</TD></TR>\n",
       "\t<TR><TD>OriginAirportID</TD><TD>Origin Airport, Airport ID. An identification number assigned by US DOT to identify a unique airport.  Use this field for airport analysis across a range of years because an airport can change its airport code and airport codes can be reused.</TD></TR>\n",
       "\t<TR><TD>OriginAirportSeqID</TD><TD>Origin Airport, Airport Sequence ID. An identification number assigned by US DOT to identify a unique airport at a given point of time.  Airport attributes, such as airport name or coordinates, may change over time.</TD></TR>\n",
       "\t<TR><TD>OriginCityMarketID</TD><TD>Origin Airport, City Market ID. City Market ID is an identification number assigned by US DOT to identify a city market.  Use this field to consolidate airports serving the same city market.</TD></TR>\n",
       "\t<TR><TD>Origin</TD><TD>Origin Airport</TD></TR>\n",
       "\t<TR><TD>OriginCityName</TD><TD>Origin Airport, City Name</TD></TR>\n",
       "\t<TR><TD>OriginState</TD><TD>Origin Airport, State Code</TD></TR>\n",
       "\t<TR><TD>OriginStateFips</TD><TD>Origin Airport, State Fips</TD></TR>\n",
       "\t<TR><TD>OriginStateName</TD><TD>Origin Airport, State Name</TD></TR>\n",
       "\t<TR><TD>OriginWac</TD><TD>Origin Airport, World Area Code</TD></TR>\n",
       "\t<TR><TD>DestAirportID</TD><TD>Destination Airport, Airport ID. An identification number assigned by US DOT to identify a unique airport.  Use this field for airport analysis across a range of years because an airport can change its airport code and airport codes can be reused.</TD></TR>\n",
       "\t<TR><TD>DestAirportSeqID</TD><TD>Destination Airport, Airport Sequence ID. An identification number assigned by US DOT to identify a unique airport at a given point of time.  Airport attributes, such as airport name or coordinates, may change over time.</TD></TR>\n",
       "\t<TR><TD>DestCityMarketID</TD><TD>Destination Airport, City Market ID. City Market ID is an identification number assigned by US DOT to identify a city market.  Use this field to consolidate airports serving the same city market.</TD></TR>\n",
       "\t<TR><TD>Dest</TD><TD>Destination Airport</TD></TR>\n",
       "\t<TR><TD>DestCityName</TD><TD>Destination Airport, City Name</TD></TR>\n",
       "\t<TR><TD>DestState</TD><TD>Destination Airport, State Code</TD></TR>\n",
       "\t<TR><TD>DestStateFips</TD><TD>Destination Airport, State Fips</TD></TR>\n",
       "\t<TR><TD>DestStateName</TD><TD>Destination Airport, State Name</TD></TR>\n",
       "\t<TR><TD>DestWac</TD><TD>Destination Airport, World Area Code</TD></TR>\n",
       "\t<TR><TD>CRSDepTime</TD><TD>CRS Departure Time (local time: hhmm)</TD></TR>\n",
       "\t<TR><TD>DepTime</TD><TD>Actual Departure Time (local time: hhmm)</TD></TR>\n",
       "\t<TR><TD>DepDelay</TD><TD>Difference in minutes between scheduled and actual departure time. Early departures show negative numbers.</TD></TR>\n",
       "\t<TR><TD>DepDelayMinutes</TD><TD>Difference in minutes between scheduled and actual departure time. Early departures set to 0.</TD></TR>\n",
       "\t<TR><TD>DepDel15</TD><TD>Departure Delay Indicator, 15 Minutes or More (1=Yes)</TD></TR>\n",
       "\t<TR><TD>DepartureDelayGroups</TD><TD>Departure Delay intervals, every (15 minutes from <-15 to >180)</TD></TR>\n",
       "\t<TR><TD>DepTimeBlk</TD><TD>CRS Departure Time Block, Hourly Intervals</TD></TR>\n",
       "\t<TR><TD>TaxiOut</TD><TD>Taxi Out Time, in Minutes</TD></TR>\n",
       "\t<TR><TD>WheelsOff</TD><TD>Wheels Off Time (local time: hhmm)</TD></TR>\n",
       "\t<TR><TD>WheelsOn</TD><TD>Wheels On Time (local time: hhmm)</TD></TR>\n",
       "\t<TR><TD>TaxiIn</TD><TD>Taxi In Time, in Minutes</TD></TR>\n",
       "\t<TR><TD>CRSArrTime</TD><TD>CRS Arrival Time (local time: hhmm)</TD></TR>\n",
       "\t<TR><TD>ArrTime</TD><TD>Actual Arrival Time (local time: hhmm)</TD></TR>\n",
       "\t<TR><TD>ArrDelay</TD><TD>Difference in minutes between scheduled and actual arrival time. Early arrivals show negative numbers.</TD></TR>\n",
       "\t<TR><TD>ArrDelayMinutes</TD><TD>Difference in minutes between scheduled and actual arrival time. Early arrivals set to 0.</TD></TR>\n",
       "\t<TR><TD>ArrDel15</TD><TD>Arrival Delay Indicator, 15 Minutes or More (1=Yes)</TD></TR>\n",
       "\t<TR><TD>ArrivalDelayGroups</TD><TD>Arrival Delay intervals, every (15-minutes from <-15 to >180)</TD></TR>\n",
       "\t<TR><TD>ArrTimeBlk</TD><TD>CRS Arrival Time Block, Hourly Intervals</TD></TR>\n",
       "\t<TR><TD>Cancelled</TD><TD>Cancelled Flight Indicator (1=Yes)</TD></TR>\n",
       "\t<TR><TD>CancellationCode</TD><TD>Specifies The Reason For Cancellation</TD></TR>\n",
       "\t<TR><TD>Diverted</TD><TD>Diverted Flight Indicator (1=Yes)</TD></TR>\n",
       "\t<TR><TD>CRSElapsedTime</TD><TD>CRS Elapsed Time of Flight, in Minutes</TD></TR>\n",
       "\t<TR><TD>ActualElapsedTime</TD><TD>Elapsed Time of Flight, in Minutes</TD></TR>\n",
       "\t<TR><TD>AirTime</TD><TD>Flight Time, in Minutes</TD></TR>\n",
       "\t<TR><TD>Flights</TD><TD>Number of Flights</TD></TR>\n",
       "\t<TR><TD>Distance</TD><TD>Distance between airports (miles)</TD></TR>\n",
       "\t<TR><TD>DistanceGroup</TD><TD>Distance Intervals, every 250 Miles, for Flight Segment</TD></TR>\n",
       "\t<TR><TD>CarrierDelay</TD><TD>Carrier Delay, in Minutes</TD></TR>\n",
       "\t<TR><TD>WeatherDelay</TD><TD>Weather Delay, in Minutes</TD></TR>\n",
       "\t<TR><TD>NASDelay</TD><TD>National Air System Delay, in Minutes</TD></TR>\n",
       "\t<TR><TD>SecurityDelay</TD><TD>Security Delay, in Minutes</TD></TR>\n",
       "\t<TR><TD>LateAircraftDelay</TD><TD>Late Aircraft Delay, in Minutes</TD></TR>\n",
       "\t<TR><TD>FirstDepTime</TD><TD>First Gate Departure Time at Origin Airport</TD></TR>\n",
       "\t<TR><TD>TotalAddGTime</TD><TD>Total Ground Time Away from Gate for Gate Return or Cancelled Flight</TD></TR>\n",
       "\t<TR><TD>LongestAddGTime</TD><TD>Longest Time Away from Gate for Gate Return or Cancelled Flight</TD></TR>\n",
       "\t<TR><TD>DivAirportLandings</TD><TD>Number of Diverted Airport Landings</TD></TR>\n",
       "\t<TR><TD>DivReachedDest</TD><TD>Diverted Flight Reaching Scheduled Destination Indicator (1=Yes)</TD></TR>\n",
       "\t<TR><TD>DivActualElapsedTime</TD><TD>Elapsed Time of Diverted Flight Reaching Scheduled Destination, in Minutes.  The ActualElapsedTime column remains NULL for all diverted flights.</TD></TR>\n",
       "\t<TR><TD>DivArrDelay</TD><TD>Difference in minutes between scheduled and actual arrival time for a diverted flight reaching scheduled destination.  The ArrDelay column remains NULL for all diverted flights.</TD></TR>\n",
       "\t<TR><TD>DivDistance</TD><TD>Distance between scheduled destination and final diverted airport (miles).  Value will be 0 for diverted flight reaching scheduled destination.</TD></TR>\n",
       "\t<TR><TD>Div1Airport</TD><TD>Diverted Airport Code1</TD></TR>\n",
       "\t<TR><TD>Div1AirportID</TD><TD>Airport ID of Diverted Airport 1. Airport ID is a Unique Key for an Airport</TD></TR>\n",
       "\t<TR><TD>Div1AirportSeqID</TD><TD>Airport Sequence ID of Diverted Airport 1. Unique Key for Time Specific Information for an Airport</TD></TR>\n",
       "\t<TR><TD>Div1WheelsOn</TD><TD>Wheels On Time (local time: hhmm) at Diverted Airport Code1</TD></TR>\n",
       "\t<TR><TD>Div1TotalGTime</TD><TD>Total Ground Time Away from Gate at Diverted Airport Code1</TD></TR>\n",
       "\t<TR><TD>Div1LongestGTime</TD><TD>Longest Ground Time Away from Gate at Diverted Airport Code1</TD></TR>\n",
       "\t<TR><TD>Div1WheelsOff</TD><TD>Wheels Off Time (local time: hhmm) at Diverted Airport Code1</TD></TR>\n",
       "\t<TR><TD>Div1TailNum</TD><TD>Aircraft Tail Number for Diverted Airport Code1</TD></TR>\n",
       "\t<TR><TD>Div2Airport</TD><TD>Diverted Airport Code2</TD></TR>\n",
       "\t<TR><TD>Div2AirportID</TD><TD>Airport ID of Diverted Airport 2. Airport ID is a Unique Key for an Airport</TD></TR>\n",
       "\t<TR><TD>Div2AirportSeqID</TD><TD>Airport Sequence ID of Diverted Airport 2. Unique Key for Time Specific Information for an Airport</TD></TR>\n",
       "\t<TR><TD>Div2WheelsOn</TD><TD>Wheels On Time (local time: hhmm) at Diverted Airport Code2</TD></TR>\n",
       "\t<TR><TD>Div2TotalGTime</TD><TD>Total Ground Time Away from Gate at Diverted Airport Code2</TD></TR>\n",
       "\t<TR><TD>Div2LongestGTime</TD><TD>Longest Ground Time Away from Gate at Diverted Airport Code2</TD></TR>\n",
       "\t<TR><TD>Div2WheelsOff</TD><TD>Wheels Off Time (local time: hhmm) at Diverted Airport Code2</TD></TR>\n",
       "\t<TR><TD>Div2TailNum</TD><TD>Aircraft Tail Number for Diverted Airport Code2</TD></TR>\n",
       "\t<TR><TD>Div3Airport</TD><TD>Diverted Airport Code3</TD></TR>\n",
       "\t<TR><TD>Div3AirportID</TD><TD>Airport ID of Diverted Airport 3. Airport ID is a Unique Key for an Airport</TD></TR>\n",
       "\t<TR><TD>Div3AirportSeqID</TD><TD>Airport Sequence ID of Diverted Airport 3. Unique Key for Time Specific Information for an Airport</TD></TR>\n",
       "\t<TR><TD>Div3WheelsOn</TD><TD>Wheels On Time (local time: hhmm) at Diverted Airport Code3</TD></TR>\n",
       "\t<TR><TD>Div3TotalGTime</TD><TD>Total Ground Time Away from Gate at Diverted Airport Code3</TD></TR>\n",
       "\t<TR><TD>Div3LongestGTime</TD><TD>Longest Ground Time Away from Gate at Diverted Airport Code3</TD></TR>\n",
       "\t<TR><TD>Div3WheelsOff</TD><TD>Wheels Off Time (local time: hhmm) at Diverted Airport Code3</TD></TR>\n",
       "\t<TR><TD>Div3TailNum</TD><TD>Aircraft Tail Number for Diverted Airport Code3</TD></TR>\n",
       "\t<TR><TD>Div4Airport</TD><TD>Diverted Airport Code4</TD></TR>\n",
       "\t<TR><TD>Div4AirportID</TD><TD>Airport ID of Diverted Airport 4. Airport ID is a Unique Key for an Airport</TD></TR>\n",
       "\t<TR><TD>Div4AirportSeqID</TD><TD>Airport Sequence ID of Diverted Airport 4. Unique Key for Time Specific Information for an Airport</TD></TR>\n",
       "\t<TR><TD>Div4WheelsOn</TD><TD>Wheels On Time (local time: hhmm) at Diverted Airport Code4</TD></TR>\n",
       "\t<TR><TD>Div4TotalGTime</TD><TD>Total Ground Time Away from Gate at Diverted Airport Code4</TD></TR>\n",
       "\t<TR><TD>Div4LongestGTime</TD><TD>Longest Ground Time Away from Gate at Diverted Airport Code4</TD></TR>\n",
       "\t<TR><TD>Div4WheelsOff</TD><TD>Wheels Off Time (local time: hhmm) at Diverted Airport Code4</TD></TR>\n",
       "\t<TR><TD>Div4TailNum</TD><TD>Aircraft Tail Number for Diverted Airport Code4</TD></TR>\n",
       "\t<TR><TD>Div5Airport</TD><TD>Diverted Airport Code5</TD></TR>\n",
       "\t<TR><TD>Div5AirportID</TD><TD>Airport ID of Diverted Airport 5. Airport ID is a Unique Key for an Airport</TD></TR>\n",
       "\t<TR><TD>Div5AirportSeqID</TD><TD>Airport Sequence ID of Diverted Airport 5. Unique Key for Time Specific Information for an Airport</TD></TR>\n",
       "\t<TR><TD>Div5WheelsOn</TD><TD>Wheels On Time (local time: hhmm) at Diverted Airport Code5</TD></TR>\n",
       "\t<TR><TD>Div5TotalGTime</TD><TD>Total Ground Time Away from Gate at Diverted Airport Code5</TD></TR>\n",
       "\t<TR><TD>Div5LongestGTime</TD><TD>Longest Ground Time Away from Gate at Diverted Airport Code5</TD></TR>\n",
       "\t<TR><TD>Div5WheelsOff</TD><TD>Wheels Off Time (local time: hhmm) at Diverted Airport Code5</TD></TR>\n",
       "\t<TR><TD>Div5TailNum</TD><TD>Aircraft Tail Number for Diverted Airport Code5</TD></TR>\n",
       "\t</TABLE>\n",
       "</BODY>\n",
       "</HTML>\n"
      ],
      "text/plain": [
       "<IPython.core.display.HTML object>"
      ]
     },
     "metadata": {},
     "output_type": "display_data"
    }
   ],
   "source": [
    "from IPython.core.display import HTML\n",
    "\n",
    "with open(f\"{csv_base_path}/readme.html\", 'r') as f:\n",
    "    html_file = f.read()\n",
    "\n",
    "display(HTML(html_file))"
   ]
  },
  {
   "cell_type": "markdown",
   "metadata": {},
   "source": [
    "#### Load sample CSV\n",
    "\n",
    "Before combining all the CSV files, get a sense of the data from a single CSV file. Using Pandas, read the `On_Time_Reporting_Carrier_On_Time_Performance_(1987_present)_2018_9.csv` file first. You can use the Python built-in `read_csv` function ([documentation](https://pandas.pydata.org/pandas-docs/stable/reference/api/pandas.read_csv.html))."
   ]
  },
  {
   "cell_type": "code",
   "execution_count": 219,
   "metadata": {},
   "outputs": [],
   "source": [
    "df_temp = pd.read_csv( os.path.join(csv_base_path, 'On_Time_Reporting_Carrier_On_Time_Performance_(1987_present)_2017_12.csv' ))\n"
   ]
  },
  {
   "cell_type": "markdown",
   "metadata": {},
   "source": [
    "**Question**: Print the row and column length in the dataset, and print the column names."
   ]
  },
  {
   "cell_type": "code",
   "execution_count": 220,
   "metadata": {},
   "outputs": [
    {
     "name": "stdout",
     "output_type": "stream",
     "text": [
      "Rows and columns in one csv file is (464205, 110)\n",
      "Columns in one csv file are ['Year', 'Quarter', 'Month', 'DayofMonth', 'DayOfWeek', 'FlightDate', 'Reporting_Airline', 'DOT_ID_Reporting_Airline', 'IATA_CODE_Reporting_Airline', 'Tail_Number', 'Flight_Number_Reporting_Airline', 'OriginAirportID', 'OriginAirportSeqID', 'OriginCityMarketID', 'Origin', 'OriginCityName', 'OriginState', 'OriginStateFips', 'OriginStateName', 'OriginWac', 'DestAirportID', 'DestAirportSeqID', 'DestCityMarketID', 'Dest', 'DestCityName', 'DestState', 'DestStateFips', 'DestStateName', 'DestWac', 'CRSDepTime', 'DepTime', 'DepDelay', 'DepDelayMinutes', 'DepDel15', 'DepartureDelayGroups', 'DepTimeBlk', 'TaxiOut', 'WheelsOff', 'WheelsOn', 'TaxiIn', 'CRSArrTime', 'ArrTime', 'ArrDelay', 'ArrDelayMinutes', 'ArrDel15', 'ArrivalDelayGroups', 'ArrTimeBlk', 'Cancelled', 'CancellationCode', 'Diverted', 'CRSElapsedTime', 'ActualElapsedTime', 'AirTime', 'Flights', 'Distance', 'DistanceGroup', 'CarrierDelay', 'WeatherDelay', 'NASDelay', 'SecurityDelay', 'LateAircraftDelay', 'FirstDepTime', 'TotalAddGTime', 'LongestAddGTime', 'DivAirportLandings', 'DivReachedDest', 'DivActualElapsedTime', 'DivArrDelay', 'DivDistance', 'Div1Airport', 'Div1AirportID', 'Div1AirportSeqID', 'Div1WheelsOn', 'Div1TotalGTime', 'Div1LongestGTime', 'Div1WheelsOff', 'Div1TailNum', 'Div2Airport', 'Div2AirportID', 'Div2AirportSeqID', 'Div2WheelsOn', 'Div2TotalGTime', 'Div2LongestGTime', 'Div2WheelsOff', 'Div2TailNum', 'Div3Airport', 'Div3AirportID', 'Div3AirportSeqID', 'Div3WheelsOn', 'Div3TotalGTime', 'Div3LongestGTime', 'Div3WheelsOff', 'Div3TailNum', 'Div4Airport', 'Div4AirportID', 'Div4AirportSeqID', 'Div4WheelsOn', 'Div4TotalGTime', 'Div4LongestGTime', 'Div4WheelsOff', 'Div4TailNum', 'Div5Airport', 'Div5AirportID', 'Div5AirportSeqID', 'Div5WheelsOn', 'Div5TotalGTime', 'Div5LongestGTime', 'Div5WheelsOff', 'Div5TailNum', 'Unnamed: 109']\n"
     ]
    }
   ],
   "source": [
    "df_shape = df_temp.shape\n",
    "print(f'Rows and columns in one csv file is {df_shape}')\n",
    "print(f'Columns in one csv file are',list(df_temp.columns))"
   ]
  },
  {
   "cell_type": "markdown",
   "metadata": {},
   "source": [
    "**Question**: Print the first 10 rows of the dataset.  "
   ]
  },
  {
   "cell_type": "code",
   "execution_count": 221,
   "metadata": {},
   "outputs": [
    {
     "data": {
      "text/html": [
       "<div>\n",
       "<style scoped>\n",
       "    .dataframe tbody tr th:only-of-type {\n",
       "        vertical-align: middle;\n",
       "    }\n",
       "\n",
       "    .dataframe tbody tr th {\n",
       "        vertical-align: top;\n",
       "    }\n",
       "\n",
       "    .dataframe thead th {\n",
       "        text-align: right;\n",
       "    }\n",
       "</style>\n",
       "<table border=\"1\" class=\"dataframe\">\n",
       "  <thead>\n",
       "    <tr style=\"text-align: right;\">\n",
       "      <th></th>\n",
       "      <th>Year</th>\n",
       "      <th>Quarter</th>\n",
       "      <th>Month</th>\n",
       "      <th>DayofMonth</th>\n",
       "      <th>DayOfWeek</th>\n",
       "      <th>FlightDate</th>\n",
       "      <th>Reporting_Airline</th>\n",
       "      <th>DOT_ID_Reporting_Airline</th>\n",
       "      <th>IATA_CODE_Reporting_Airline</th>\n",
       "      <th>Tail_Number</th>\n",
       "      <th>...</th>\n",
       "      <th>Div4TailNum</th>\n",
       "      <th>Div5Airport</th>\n",
       "      <th>Div5AirportID</th>\n",
       "      <th>Div5AirportSeqID</th>\n",
       "      <th>Div5WheelsOn</th>\n",
       "      <th>Div5TotalGTime</th>\n",
       "      <th>Div5LongestGTime</th>\n",
       "      <th>Div5WheelsOff</th>\n",
       "      <th>Div5TailNum</th>\n",
       "      <th>Unnamed: 109</th>\n",
       "    </tr>\n",
       "  </thead>\n",
       "  <tbody>\n",
       "    <tr>\n",
       "      <th>0</th>\n",
       "      <td>2017</td>\n",
       "      <td>4</td>\n",
       "      <td>12</td>\n",
       "      <td>1</td>\n",
       "      <td>5</td>\n",
       "      <td>2017-12-01</td>\n",
       "      <td>VX</td>\n",
       "      <td>21171</td>\n",
       "      <td>VX</td>\n",
       "      <td>N854VA</td>\n",
       "      <td>...</td>\n",
       "      <td>NaN</td>\n",
       "      <td>NaN</td>\n",
       "      <td>NaN</td>\n",
       "      <td>NaN</td>\n",
       "      <td>NaN</td>\n",
       "      <td>NaN</td>\n",
       "      <td>NaN</td>\n",
       "      <td>NaN</td>\n",
       "      <td>NaN</td>\n",
       "      <td>NaN</td>\n",
       "    </tr>\n",
       "    <tr>\n",
       "      <th>1</th>\n",
       "      <td>2017</td>\n",
       "      <td>4</td>\n",
       "      <td>12</td>\n",
       "      <td>1</td>\n",
       "      <td>5</td>\n",
       "      <td>2017-12-01</td>\n",
       "      <td>VX</td>\n",
       "      <td>21171</td>\n",
       "      <td>VX</td>\n",
       "      <td>N854VA</td>\n",
       "      <td>...</td>\n",
       "      <td>NaN</td>\n",
       "      <td>NaN</td>\n",
       "      <td>NaN</td>\n",
       "      <td>NaN</td>\n",
       "      <td>NaN</td>\n",
       "      <td>NaN</td>\n",
       "      <td>NaN</td>\n",
       "      <td>NaN</td>\n",
       "      <td>NaN</td>\n",
       "      <td>NaN</td>\n",
       "    </tr>\n",
       "    <tr>\n",
       "      <th>2</th>\n",
       "      <td>2017</td>\n",
       "      <td>4</td>\n",
       "      <td>12</td>\n",
       "      <td>1</td>\n",
       "      <td>5</td>\n",
       "      <td>2017-12-01</td>\n",
       "      <td>VX</td>\n",
       "      <td>21171</td>\n",
       "      <td>VX</td>\n",
       "      <td>N842VA</td>\n",
       "      <td>...</td>\n",
       "      <td>NaN</td>\n",
       "      <td>NaN</td>\n",
       "      <td>NaN</td>\n",
       "      <td>NaN</td>\n",
       "      <td>NaN</td>\n",
       "      <td>NaN</td>\n",
       "      <td>NaN</td>\n",
       "      <td>NaN</td>\n",
       "      <td>NaN</td>\n",
       "      <td>NaN</td>\n",
       "    </tr>\n",
       "    <tr>\n",
       "      <th>3</th>\n",
       "      <td>2017</td>\n",
       "      <td>4</td>\n",
       "      <td>12</td>\n",
       "      <td>1</td>\n",
       "      <td>5</td>\n",
       "      <td>2017-12-01</td>\n",
       "      <td>VX</td>\n",
       "      <td>21171</td>\n",
       "      <td>VX</td>\n",
       "      <td>N845VA</td>\n",
       "      <td>...</td>\n",
       "      <td>NaN</td>\n",
       "      <td>NaN</td>\n",
       "      <td>NaN</td>\n",
       "      <td>NaN</td>\n",
       "      <td>NaN</td>\n",
       "      <td>NaN</td>\n",
       "      <td>NaN</td>\n",
       "      <td>NaN</td>\n",
       "      <td>NaN</td>\n",
       "      <td>NaN</td>\n",
       "    </tr>\n",
       "    <tr>\n",
       "      <th>4</th>\n",
       "      <td>2017</td>\n",
       "      <td>4</td>\n",
       "      <td>12</td>\n",
       "      <td>1</td>\n",
       "      <td>5</td>\n",
       "      <td>2017-12-01</td>\n",
       "      <td>VX</td>\n",
       "      <td>21171</td>\n",
       "      <td>VX</td>\n",
       "      <td>N851VA</td>\n",
       "      <td>...</td>\n",
       "      <td>NaN</td>\n",
       "      <td>NaN</td>\n",
       "      <td>NaN</td>\n",
       "      <td>NaN</td>\n",
       "      <td>NaN</td>\n",
       "      <td>NaN</td>\n",
       "      <td>NaN</td>\n",
       "      <td>NaN</td>\n",
       "      <td>NaN</td>\n",
       "      <td>NaN</td>\n",
       "    </tr>\n",
       "    <tr>\n",
       "      <th>5</th>\n",
       "      <td>2017</td>\n",
       "      <td>4</td>\n",
       "      <td>12</td>\n",
       "      <td>1</td>\n",
       "      <td>5</td>\n",
       "      <td>2017-12-01</td>\n",
       "      <td>VX</td>\n",
       "      <td>21171</td>\n",
       "      <td>VX</td>\n",
       "      <td>N836VA</td>\n",
       "      <td>...</td>\n",
       "      <td>NaN</td>\n",
       "      <td>NaN</td>\n",
       "      <td>NaN</td>\n",
       "      <td>NaN</td>\n",
       "      <td>NaN</td>\n",
       "      <td>NaN</td>\n",
       "      <td>NaN</td>\n",
       "      <td>NaN</td>\n",
       "      <td>NaN</td>\n",
       "      <td>NaN</td>\n",
       "    </tr>\n",
       "    <tr>\n",
       "      <th>6</th>\n",
       "      <td>2017</td>\n",
       "      <td>4</td>\n",
       "      <td>12</td>\n",
       "      <td>1</td>\n",
       "      <td>5</td>\n",
       "      <td>2017-12-01</td>\n",
       "      <td>VX</td>\n",
       "      <td>21171</td>\n",
       "      <td>VX</td>\n",
       "      <td>N842VA</td>\n",
       "      <td>...</td>\n",
       "      <td>NaN</td>\n",
       "      <td>NaN</td>\n",
       "      <td>NaN</td>\n",
       "      <td>NaN</td>\n",
       "      <td>NaN</td>\n",
       "      <td>NaN</td>\n",
       "      <td>NaN</td>\n",
       "      <td>NaN</td>\n",
       "      <td>NaN</td>\n",
       "      <td>NaN</td>\n",
       "    </tr>\n",
       "    <tr>\n",
       "      <th>7</th>\n",
       "      <td>2017</td>\n",
       "      <td>4</td>\n",
       "      <td>12</td>\n",
       "      <td>1</td>\n",
       "      <td>5</td>\n",
       "      <td>2017-12-01</td>\n",
       "      <td>VX</td>\n",
       "      <td>21171</td>\n",
       "      <td>VX</td>\n",
       "      <td>N630VA</td>\n",
       "      <td>...</td>\n",
       "      <td>NaN</td>\n",
       "      <td>NaN</td>\n",
       "      <td>NaN</td>\n",
       "      <td>NaN</td>\n",
       "      <td>NaN</td>\n",
       "      <td>NaN</td>\n",
       "      <td>NaN</td>\n",
       "      <td>NaN</td>\n",
       "      <td>NaN</td>\n",
       "      <td>NaN</td>\n",
       "    </tr>\n",
       "    <tr>\n",
       "      <th>8</th>\n",
       "      <td>2017</td>\n",
       "      <td>4</td>\n",
       "      <td>12</td>\n",
       "      <td>1</td>\n",
       "      <td>5</td>\n",
       "      <td>2017-12-01</td>\n",
       "      <td>VX</td>\n",
       "      <td>21171</td>\n",
       "      <td>VX</td>\n",
       "      <td>N841VA</td>\n",
       "      <td>...</td>\n",
       "      <td>NaN</td>\n",
       "      <td>NaN</td>\n",
       "      <td>NaN</td>\n",
       "      <td>NaN</td>\n",
       "      <td>NaN</td>\n",
       "      <td>NaN</td>\n",
       "      <td>NaN</td>\n",
       "      <td>NaN</td>\n",
       "      <td>NaN</td>\n",
       "      <td>NaN</td>\n",
       "    </tr>\n",
       "    <tr>\n",
       "      <th>9</th>\n",
       "      <td>2017</td>\n",
       "      <td>4</td>\n",
       "      <td>12</td>\n",
       "      <td>1</td>\n",
       "      <td>5</td>\n",
       "      <td>2017-12-01</td>\n",
       "      <td>VX</td>\n",
       "      <td>21171</td>\n",
       "      <td>VX</td>\n",
       "      <td>N285VA</td>\n",
       "      <td>...</td>\n",
       "      <td>NaN</td>\n",
       "      <td>NaN</td>\n",
       "      <td>NaN</td>\n",
       "      <td>NaN</td>\n",
       "      <td>NaN</td>\n",
       "      <td>NaN</td>\n",
       "      <td>NaN</td>\n",
       "      <td>NaN</td>\n",
       "      <td>NaN</td>\n",
       "      <td>NaN</td>\n",
       "    </tr>\n",
       "  </tbody>\n",
       "</table>\n",
       "<p>10 rows × 110 columns</p>\n",
       "</div>"
      ],
      "text/plain": [
       "   Year  Quarter  Month  DayofMonth  DayOfWeek  FlightDate Reporting_Airline  \\\n",
       "0  2017        4     12           1          5  2017-12-01                VX   \n",
       "1  2017        4     12           1          5  2017-12-01                VX   \n",
       "2  2017        4     12           1          5  2017-12-01                VX   \n",
       "3  2017        4     12           1          5  2017-12-01                VX   \n",
       "4  2017        4     12           1          5  2017-12-01                VX   \n",
       "5  2017        4     12           1          5  2017-12-01                VX   \n",
       "6  2017        4     12           1          5  2017-12-01                VX   \n",
       "7  2017        4     12           1          5  2017-12-01                VX   \n",
       "8  2017        4     12           1          5  2017-12-01                VX   \n",
       "9  2017        4     12           1          5  2017-12-01                VX   \n",
       "\n",
       "   DOT_ID_Reporting_Airline IATA_CODE_Reporting_Airline Tail_Number  ...  \\\n",
       "0                     21171                          VX      N854VA  ...   \n",
       "1                     21171                          VX      N854VA  ...   \n",
       "2                     21171                          VX      N842VA  ...   \n",
       "3                     21171                          VX      N845VA  ...   \n",
       "4                     21171                          VX      N851VA  ...   \n",
       "5                     21171                          VX      N836VA  ...   \n",
       "6                     21171                          VX      N842VA  ...   \n",
       "7                     21171                          VX      N630VA  ...   \n",
       "8                     21171                          VX      N841VA  ...   \n",
       "9                     21171                          VX      N285VA  ...   \n",
       "\n",
       "   Div4TailNum  Div5Airport  Div5AirportID  Div5AirportSeqID Div5WheelsOn  \\\n",
       "0          NaN          NaN            NaN               NaN          NaN   \n",
       "1          NaN          NaN            NaN               NaN          NaN   \n",
       "2          NaN          NaN            NaN               NaN          NaN   \n",
       "3          NaN          NaN            NaN               NaN          NaN   \n",
       "4          NaN          NaN            NaN               NaN          NaN   \n",
       "5          NaN          NaN            NaN               NaN          NaN   \n",
       "6          NaN          NaN            NaN               NaN          NaN   \n",
       "7          NaN          NaN            NaN               NaN          NaN   \n",
       "8          NaN          NaN            NaN               NaN          NaN   \n",
       "9          NaN          NaN            NaN               NaN          NaN   \n",
       "\n",
       "  Div5TotalGTime Div5LongestGTime  Div5WheelsOff Div5TailNum  Unnamed: 109  \n",
       "0            NaN              NaN            NaN         NaN           NaN  \n",
       "1            NaN              NaN            NaN         NaN           NaN  \n",
       "2            NaN              NaN            NaN         NaN           NaN  \n",
       "3            NaN              NaN            NaN         NaN           NaN  \n",
       "4            NaN              NaN            NaN         NaN           NaN  \n",
       "5            NaN              NaN            NaN         NaN           NaN  \n",
       "6            NaN              NaN            NaN         NaN           NaN  \n",
       "7            NaN              NaN            NaN         NaN           NaN  \n",
       "8            NaN              NaN            NaN         NaN           NaN  \n",
       "9            NaN              NaN            NaN         NaN           NaN  \n",
       "\n",
       "[10 rows x 110 columns]"
      ]
     },
     "execution_count": 221,
     "metadata": {},
     "output_type": "execute_result"
    }
   ],
   "source": [
    "df_temp.head(10)"
   ]
  },
  {
   "cell_type": "markdown",
   "metadata": {},
   "source": [
    "**Question**: Print all the columns in the dataset. Use `<dataframe>.columns` to view the column names."
   ]
  },
  {
   "cell_type": "code",
   "execution_count": 222,
   "metadata": {},
   "outputs": [
    {
     "name": "stdout",
     "output_type": "stream",
     "text": [
      "The column names are :\n",
      "#########\n",
      "Year\n",
      "Quarter\n",
      "Month\n",
      "DayofMonth\n",
      "DayOfWeek\n",
      "FlightDate\n",
      "Reporting_Airline\n",
      "DOT_ID_Reporting_Airline\n",
      "IATA_CODE_Reporting_Airline\n",
      "Tail_Number\n",
      "Flight_Number_Reporting_Airline\n",
      "OriginAirportID\n",
      "OriginAirportSeqID\n",
      "OriginCityMarketID\n",
      "Origin\n",
      "OriginCityName\n",
      "OriginState\n",
      "OriginStateFips\n",
      "OriginStateName\n",
      "OriginWac\n",
      "DestAirportID\n",
      "DestAirportSeqID\n",
      "DestCityMarketID\n",
      "Dest\n",
      "DestCityName\n",
      "DestState\n",
      "DestStateFips\n",
      "DestStateName\n",
      "DestWac\n",
      "CRSDepTime\n",
      "DepTime\n",
      "DepDelay\n",
      "DepDelayMinutes\n",
      "DepDel15\n",
      "DepartureDelayGroups\n",
      "DepTimeBlk\n",
      "TaxiOut\n",
      "WheelsOff\n",
      "WheelsOn\n",
      "TaxiIn\n",
      "CRSArrTime\n",
      "ArrTime\n",
      "ArrDelay\n",
      "ArrDelayMinutes\n",
      "ArrDel15\n",
      "ArrivalDelayGroups\n",
      "ArrTimeBlk\n",
      "Cancelled\n",
      "CancellationCode\n",
      "Diverted\n",
      "CRSElapsedTime\n",
      "ActualElapsedTime\n",
      "AirTime\n",
      "Flights\n",
      "Distance\n",
      "DistanceGroup\n",
      "CarrierDelay\n",
      "WeatherDelay\n",
      "NASDelay\n",
      "SecurityDelay\n",
      "LateAircraftDelay\n",
      "FirstDepTime\n",
      "TotalAddGTime\n",
      "LongestAddGTime\n",
      "DivAirportLandings\n",
      "DivReachedDest\n",
      "DivActualElapsedTime\n",
      "DivArrDelay\n",
      "DivDistance\n",
      "Div1Airport\n",
      "Div1AirportID\n",
      "Div1AirportSeqID\n",
      "Div1WheelsOn\n",
      "Div1TotalGTime\n",
      "Div1LongestGTime\n",
      "Div1WheelsOff\n",
      "Div1TailNum\n",
      "Div2Airport\n",
      "Div2AirportID\n",
      "Div2AirportSeqID\n",
      "Div2WheelsOn\n",
      "Div2TotalGTime\n",
      "Div2LongestGTime\n",
      "Div2WheelsOff\n",
      "Div2TailNum\n",
      "Div3Airport\n",
      "Div3AirportID\n",
      "Div3AirportSeqID\n",
      "Div3WheelsOn\n",
      "Div3TotalGTime\n",
      "Div3LongestGTime\n",
      "Div3WheelsOff\n",
      "Div3TailNum\n",
      "Div4Airport\n",
      "Div4AirportID\n",
      "Div4AirportSeqID\n",
      "Div4WheelsOn\n",
      "Div4TotalGTime\n",
      "Div4LongestGTime\n",
      "Div4WheelsOff\n",
      "Div4TailNum\n",
      "Div5Airport\n",
      "Div5AirportID\n",
      "Div5AirportSeqID\n",
      "Div5WheelsOn\n",
      "Div5TotalGTime\n",
      "Div5LongestGTime\n",
      "Div5WheelsOff\n",
      "Div5TailNum\n",
      "Unnamed: 109\n"
     ]
    }
   ],
   "source": [
    "print(f'The column names are :')\n",
    "print('#########')\n",
    "for col in df_temp.columns:\n",
    "    print(col)"
   ]
  },
  {
   "cell_type": "markdown",
   "metadata": {},
   "source": [
    "**Question**: Print all the columns in the dataset that contain the word 'Del'. This will help you see how many columns have delay data in them.\n",
    "\n",
    "**Hint**: You can use a Python list comprehension to include values that pass certain `if` statement criteria.\n",
    "\n",
    "For example: `[x for x in [1,2,3,4,5] if x > 2]`  \n",
    "\n",
    "**Hint**: You can use the `in` keyword ([documentation](https://www.w3schools.com/python/ref_keyword_in.asp)) to check if the value is in a list or not. \n",
    "\n",
    "For example: `5 in [1,2,3,4,5]`"
   ]
  },
  {
   "cell_type": "code",
   "execution_count": 223,
   "metadata": {},
   "outputs": [
    {
     "name": "stdout",
     "output_type": "stream",
     "text": [
      "Columns containing the word 'Del'-\n",
      "#########\n",
      "DepDelay\n",
      "DepDelayMinutes\n",
      "DepDel15\n",
      "DepartureDelayGroups\n",
      "ArrDelay\n",
      "ArrDelayMinutes\n",
      "ArrDel15\n",
      "ArrivalDelayGroups\n",
      "CarrierDelay\n",
      "WeatherDelay\n",
      "NASDelay\n",
      "SecurityDelay\n",
      "LateAircraftDelay\n",
      "DivArrDelay\n",
      "\n",
      "Number of columns containing the word 'Del' = 14\n"
     ]
    }
   ],
   "source": [
    "# Find and print columns containing 'Del'\n",
    "columns_with_del = [c for c in df_temp.columns if 'Del' in c]\n",
    "\n",
    "print(\"Columns containing the word 'Del'-\")\n",
    "print(\"#########\")\n",
    "print(\"\\n\".join(columns_with_del))\n",
    "print(f\"\\nNumber of columns containing the word 'Del' = {len(columns_with_del)}\")"
   ]
  },
  {
   "cell_type": "markdown",
   "metadata": {},
   "source": [
    "Here are some more questions to help you find out more about your dataset.\n",
    "\n",
    "**Questions**   \n",
    "1. How many rows and columns does the dataset have?   \n",
    "2. How many years are included in the dataset?   \n",
    "3. What is the date range for the dataset?   \n",
    "4. Which airlines are included in the dataset?   \n",
    "5. Which origin and destination airports are covered?"
   ]
  },
  {
   "cell_type": "code",
   "execution_count": 224,
   "metadata": {},
   "outputs": [
    {
     "name": "stdout",
     "output_type": "stream",
     "text": [
      "\n",
      "1. The dataset has 464205 rows and 110 columns.\n",
      "\n",
      "2. Years in the dataset: [2017]\n",
      "   Number of years: 1\n",
      "   Months covered: [12]\n",
      "   Number of months: 1\n",
      "\n",
      "3. Date range: 2017-12-01 to 2017-12-31\n",
      "\n",
      "4. Airlines covered: ['VX', 'NK', 'AS', 'DL', 'HA', 'OO', 'AA', 'UA', 'WN', 'B6', 'F9', 'EV']\n",
      "\n",
      "5. Origin airports: ['SFO', 'DCA', 'JFK', 'OGG', 'HNL', 'LAX', 'IAD', 'BNA', 'RDU', 'BWI', 'PHL', 'EWR', 'ORD', 'AUS', 'LAS', 'IND', 'MCO', 'FLL', 'BOS', 'MSY', 'SEA', 'PSP', 'DAL', 'PDX', 'DEN', 'SAN', 'KOA', 'MYR', 'CLE', 'DTW', 'PHX', 'RSW', 'MSP', 'BQN', 'ATL', 'ACY', 'PBI', 'BDL', 'DFW', 'LGA', 'TPA', 'LBE', 'MCI', 'OAK', 'IAH', 'SJU', 'STT', 'CAK', 'PIT', 'PBG', 'IAG', 'ADQ', 'ANC', 'BET', 'SCC', 'BRW', 'FAI', 'JNU', 'KTN', 'YAK', 'CDV', 'SIT', 'WRG', 'PSG', 'OME', 'OTZ', 'BUR', 'SMF', 'SNA', 'SJC', 'SLC', 'BLI', 'SBA', 'ONT', 'GEG', 'SAT', 'TUS', 'OMA', 'ABQ', 'STL', 'CHS', 'LIH', 'BOI', 'ADK', 'MIA', 'BHM', 'GSP', 'CVG', 'GSO', 'TLH', 'OKC', 'MSN', 'CLT', 'RNO', 'PHF', 'XNA', 'GRR', 'BUF', 'LEX', 'TUL', 'JAN', 'CHO', 'VPS', 'FAY', 'EYW', 'MLB', 'HSV', 'MKE', 'AGS', 'CMH', 'MDW', 'ROC', 'BIL', 'ELP', 'JAX', 'FNT', 'FSD', 'MOB', 'MEM', 'CAE', 'SYR', 'FAR', 'PNS', 'DAB', 'ORF', 'CID', 'SAV', 'DAY', 'CHA', 'RIC', 'PVD', 'HPN', 'MDT', 'ECP', 'GPT', 'ATW', 'SRQ', 'SDF', 'GRB', 'HOU', 'DSM', 'LIT', 'LFT', 'JAC', 'ABE', 'TRI', 'BZN', 'TYS', 'ROA', 'ALB', 'BTR', 'AVL', 'COS', 'TVC', 'GNV', 'PWM', 'BTV', 'MHT', 'MSO', 'CRW', 'RAP', 'EVV', 'ILM', 'ICT', 'BIS', 'AVP', 'MTJ', 'EGE', 'HDN', 'STX', 'ITO', 'PPG', 'SCE', 'PIA', 'FWA', 'BMI', 'FAT', 'RST', 'ALO', 'LSE', 'EUG', 'GJT', 'MFR', 'FLG', 'ASE', 'BFL', 'RDM', 'LBB', 'STS', 'ROW', 'YUM', 'DRO', 'MEI', 'PIB', 'SGU', 'SAF', 'TOL', 'MLI', 'IFP', 'PSC', 'SBP', 'LNK', 'LAN', 'MBS', 'SHV', 'HLN', 'SWF', 'COD', 'ERI', 'CIU', 'ITH', 'MQT', 'SBN', 'DLH', 'IDA', 'GTF', 'MOT', 'GFK', 'FCA', 'AZO', 'LGB', 'SUN', 'ISN', 'MGM', 'FSM', 'DHN', 'GTR', 'MLU', 'CMX', 'EAU', 'CGI', 'GCC', 'CKB', 'RKS', 'MRY', 'PUB', 'MKG', 'PAH', 'UIN', 'SPI', 'DVL', 'JMS', 'LAR', 'OTH', 'HYS', 'ACV', 'CWA', 'RDD', 'COU', 'CRP', 'MAF', 'SGF', 'LWS', 'PIH', 'ABR', 'APN', 'ESC', 'PLN', 'BJI', 'CPR', 'BRD', 'BTM', 'CDC', 'IMT', 'EKO', 'TWF', 'HIB', 'BGM', 'RHI', 'INL', 'MHK', 'HRL', 'AMA', 'SWO', 'MMH', 'AEX', 'MFE', 'GUC', 'GUM', 'ISP', 'PSE', 'ORH', 'TTN', 'LAW', 'CLL', 'SJT', 'GRK', 'ABI', 'LRD', 'BRO', 'LCH', 'HOB', 'BGR', 'OAJ', 'ELM']\n",
      "   Destination airports: ['DCA', 'SFO', 'JFK', 'OGG', 'HNL', 'LAX', 'IAD', 'BNA', 'RDU', 'BWI', 'PHL', 'EWR', 'ORD', 'AUS', 'LAS', 'IND', 'MCO', 'FLL', 'BOS', 'MSY', 'SEA', 'PSP', 'DAL', 'PDX', 'DEN', 'SAN', 'KOA', 'MYR', 'CLE', 'PHX', 'DTW', 'MCI', 'RSW', 'BQN', 'ACY', 'DFW', 'ATL', 'PBI', 'BDL', 'MSP', 'LBE', 'TPA', 'LGA', 'STT', 'IAH', 'CAK', 'PIT', 'SJU', 'IAG', 'PBG', 'OAK', 'ANC', 'BET', 'ADQ', 'BRW', 'SCC', 'FAI', 'KTN', 'YAK', 'CDV', 'JNU', 'SIT', 'PSG', 'WRG', 'OME', 'OTZ', 'SNA', 'SJC', 'GEG', 'BLI', 'ONT', 'SBA', 'BUR', 'SAT', 'SMF', 'TUS', 'OMA', 'SLC', 'CHS', 'STL', 'ABQ', 'LIH', 'BOI', 'ADK', 'MIA', 'BHM', 'GSP', 'CVG', 'GSO', 'MSN', 'CLT', 'GRR', 'RNO', 'GNV', 'XNA', 'CHA', 'ABE', 'DSM', 'TUL', 'GRB', 'FAR', 'LEX', 'HSV', 'ILM', 'JAN', 'FAY', 'EYW', 'TLH', 'EVV', 'MLB', 'MKE', 'CHO', 'BZN', 'VPS', 'ALB', 'CMH', 'MDW', 'PVD', 'AVP', 'ATW', 'JAX', 'BUF', 'MEM', 'SYR', 'JAC', 'MOB', 'BIS', 'DAB', 'OKC', 'SAV', 'ORF', 'RIC', 'BIL', 'DAY', 'PNS', 'HPN', 'MDT', 'FSD', 'GPT', 'SRQ', 'SDF', 'MHT', 'PHF', 'HOU', 'ECP', 'LIT', 'CAE', 'RAP', 'ICT', 'ROC', 'AVL', 'TYS', 'FNT', 'CRW', 'TRI', 'LFT', 'TVC', 'BTR', 'ROA', 'ELP', 'AGS', 'MSO', 'BTV', 'PWM', 'COS', 'CID', 'MTJ', 'EGE', 'HDN', 'STX', 'ITO', 'PPG', 'PIA', 'FWA', 'RST', 'ALO', 'BMI', 'LSE', 'EUG', 'DRO', 'MFR', 'ASE', 'FAT', 'GJT', 'RDM', 'BFL', 'FLG', 'YUM', 'SAF', 'STS', 'ROW', 'MEI', 'PIB', 'SGU', 'TOL', 'LBB', 'MLI', 'IFP', 'PSC', 'SBP', 'LNK', 'MBS', 'LAN', 'SUN', 'DHN', 'SCE', 'SWF', 'ERI', 'ITH', 'IMT', 'CIU', 'MQT', 'GFK', 'SBN', 'DLH', 'IDA', 'HLN', 'FCA', 'FSM', 'GTF', 'AZO', 'MOT', 'LGB', 'MGM', 'ISN', 'GTR', 'SHV', 'MLU', 'UIN', 'MKG', 'MRY', 'CKB', 'PUB', 'CMX', 'EAU', 'PAH', 'SPI', 'RKS', 'CGI', 'JMS', 'DVL', 'LAR', 'OTH', 'GCC', 'HYS', 'CWA', 'RDD', 'COU', 'SGF', 'ACV', 'CRP', 'MAF', 'LWS', 'PIH', 'ABR', 'COD', 'APN', 'ESC', 'PLN', 'BJI', 'CPR', 'BRD', 'BTM', 'CDC', 'EKO', 'HIB', 'BGM', 'TWF', 'RHI', 'INL', 'HRL', 'MHK', 'AMA', 'SWO', 'MMH', 'AEX', 'MFE', 'GUC', 'GUM', 'ISP', 'PSE', 'ORH', 'TTN', 'CLL', 'LAW', 'SJT', 'GRK', 'BRO', 'LCH', 'LRD', 'BGR', 'HOB', 'OAJ', 'ELM']\n"
     ]
    }
   ],
   "source": [
    "# 1. Dataset shape\n",
    "rows, cols = df_temp.shape\n",
    "print(f\"\\n1. The dataset has {rows} rows and {cols} columns.\")\n",
    "\n",
    "# 2. Years and months covered\n",
    "years = df_temp['Year'].unique()\n",
    "months = df_temp['Month'].unique()\n",
    "print(f\"\\n2. Years in the dataset: {years}\")\n",
    "print(f\"   Number of years: {len(years)}\")\n",
    "print(f\"   Months covered: {months}\")\n",
    "print(f\"   Number of months: {len(months)}\")\n",
    "\n",
    "# 3. Date range\n",
    "date_min, date_max = df_temp['FlightDate'].min(), df_temp['FlightDate'].max()\n",
    "print(f\"\\n3. Date range: {date_min} to {date_max}\")\n",
    "\n",
    "# 4. Airlines included\n",
    "airlines = df_temp['Reporting_Airline'].unique()\n",
    "print(f\"\\n4. Airlines covered: {list(airlines)}\")\n",
    "\n",
    "# 5. Origin and destination airports\n",
    "origins = df_temp['Origin'].unique()\n",
    "dests = df_temp['Dest'].unique()\n",
    "print(f\"\\n5. Origin airports: {list(origins)}\")\n",
    "print(f\"   Destination airports: {list(dests)}\")\n"
   ]
  },
  {
   "cell_type": "markdown",
   "metadata": {},
   "source": [
    "**Question**: What is the count of all the origin and destination airports?\n",
    "\n",
    "**Hint**: You can use the Pandas `values_count` function ([documentation](https://pandas.pydata.org/pandas-docs/stable/reference/api/pandas.Series.value_counts.html)) to find out the values for each airport using the columns `Origin` and `Dest`."
   ]
  },
  {
   "cell_type": "code",
   "execution_count": 225,
   "metadata": {},
   "outputs": [
    {
     "data": {
      "text/html": [
       "<div>\n",
       "<style scoped>\n",
       "    .dataframe tbody tr th:only-of-type {\n",
       "        vertical-align: middle;\n",
       "    }\n",
       "\n",
       "    .dataframe tbody tr th {\n",
       "        vertical-align: top;\n",
       "    }\n",
       "\n",
       "    .dataframe thead th {\n",
       "        text-align: right;\n",
       "    }\n",
       "</style>\n",
       "<table border=\"1\" class=\"dataframe\">\n",
       "  <thead>\n",
       "    <tr style=\"text-align: right;\">\n",
       "      <th></th>\n",
       "      <th>Origin</th>\n",
       "      <th>Destination</th>\n",
       "    </tr>\n",
       "  </thead>\n",
       "  <tbody>\n",
       "    <tr>\n",
       "      <th>ABE</th>\n",
       "      <td>168</td>\n",
       "      <td>167.0</td>\n",
       "    </tr>\n",
       "    <tr>\n",
       "      <th>ABI</th>\n",
       "      <td>1</td>\n",
       "      <td>NaN</td>\n",
       "    </tr>\n",
       "    <tr>\n",
       "      <th>ABQ</th>\n",
       "      <td>1600</td>\n",
       "      <td>1604.0</td>\n",
       "    </tr>\n",
       "    <tr>\n",
       "      <th>ABR</th>\n",
       "      <td>61</td>\n",
       "      <td>61.0</td>\n",
       "    </tr>\n",
       "    <tr>\n",
       "      <th>ACV</th>\n",
       "      <td>102</td>\n",
       "      <td>103.0</td>\n",
       "    </tr>\n",
       "    <tr>\n",
       "      <th>...</th>\n",
       "      <td>...</td>\n",
       "      <td>...</td>\n",
       "    </tr>\n",
       "    <tr>\n",
       "      <th>VPS</th>\n",
       "      <td>308</td>\n",
       "      <td>308.0</td>\n",
       "    </tr>\n",
       "    <tr>\n",
       "      <th>WRG</th>\n",
       "      <td>60</td>\n",
       "      <td>60.0</td>\n",
       "    </tr>\n",
       "    <tr>\n",
       "      <th>XNA</th>\n",
       "      <td>364</td>\n",
       "      <td>361.0</td>\n",
       "    </tr>\n",
       "    <tr>\n",
       "      <th>YAK</th>\n",
       "      <td>60</td>\n",
       "      <td>60.0</td>\n",
       "    </tr>\n",
       "    <tr>\n",
       "      <th>YUM</th>\n",
       "      <td>114</td>\n",
       "      <td>114.0</td>\n",
       "    </tr>\n",
       "  </tbody>\n",
       "</table>\n",
       "<p>295 rows × 2 columns</p>\n",
       "</div>"
      ],
      "text/plain": [
       "     Origin  Destination\n",
       "ABE     168        167.0\n",
       "ABI       1          NaN\n",
       "ABQ    1600       1604.0\n",
       "ABR      61         61.0\n",
       "ACV     102        103.0\n",
       "..      ...          ...\n",
       "VPS     308        308.0\n",
       "WRG      60         60.0\n",
       "XNA     364        361.0\n",
       "YAK      60         60.0\n",
       "YUM     114        114.0\n",
       "\n",
       "[295 rows x 2 columns]"
      ]
     },
     "execution_count": 225,
     "metadata": {},
     "output_type": "execute_result"
    }
   ],
   "source": [
    "# Create DF of Origin/Destination counts\n",
    "counts = pd.DataFrame({'Origin':df_temp['Origin'].value_counts(), 'Destination':df_temp['Dest'].value_counts()})\n",
    "counts"
   ]
  },
  {
   "cell_type": "markdown",
   "metadata": {},
   "source": [
    "**Question**: Print the top 15 origin and destination airports based on number of flights in the dataset.\n",
    "\n",
    "**Hint**: You can use the Pandas `sort_values` function ([documentation](https://pandas.pydata.org/pandas-docs/stable/reference/api/pandas.DataFrame.sort_values.html))."
   ]
  },
  {
   "cell_type": "code",
   "execution_count": 226,
   "metadata": {},
   "outputs": [
    {
     "data": {
      "text/html": [
       "<div>\n",
       "<style scoped>\n",
       "    .dataframe tbody tr th:only-of-type {\n",
       "        vertical-align: middle;\n",
       "    }\n",
       "\n",
       "    .dataframe tbody tr th {\n",
       "        vertical-align: top;\n",
       "    }\n",
       "\n",
       "    .dataframe thead th {\n",
       "        text-align: right;\n",
       "    }\n",
       "</style>\n",
       "<table border=\"1\" class=\"dataframe\">\n",
       "  <thead>\n",
       "    <tr style=\"text-align: right;\">\n",
       "      <th></th>\n",
       "      <th>Origin</th>\n",
       "      <th>Destination</th>\n",
       "    </tr>\n",
       "  </thead>\n",
       "  <tbody>\n",
       "    <tr>\n",
       "      <th>ATL</th>\n",
       "      <td>28297</td>\n",
       "      <td>28293.0</td>\n",
       "    </tr>\n",
       "    <tr>\n",
       "      <th>ORD</th>\n",
       "      <td>20412</td>\n",
       "      <td>20365.0</td>\n",
       "    </tr>\n",
       "    <tr>\n",
       "      <th>DEN</th>\n",
       "      <td>18043</td>\n",
       "      <td>18067.0</td>\n",
       "    </tr>\n",
       "    <tr>\n",
       "      <th>LAX</th>\n",
       "      <td>17709</td>\n",
       "      <td>17715.0</td>\n",
       "    </tr>\n",
       "    <tr>\n",
       "      <th>SFO</th>\n",
       "      <td>14901</td>\n",
       "      <td>14911.0</td>\n",
       "    </tr>\n",
       "    <tr>\n",
       "      <th>DFW</th>\n",
       "      <td>14857</td>\n",
       "      <td>14849.0</td>\n",
       "    </tr>\n",
       "    <tr>\n",
       "      <th>PHX</th>\n",
       "      <td>12781</td>\n",
       "      <td>12789.0</td>\n",
       "    </tr>\n",
       "    <tr>\n",
       "      <th>LAS</th>\n",
       "      <td>12185</td>\n",
       "      <td>12182.0</td>\n",
       "    </tr>\n",
       "    <tr>\n",
       "      <th>MCO</th>\n",
       "      <td>11483</td>\n",
       "      <td>11496.0</td>\n",
       "    </tr>\n",
       "    <tr>\n",
       "      <th>SEA</th>\n",
       "      <td>11004</td>\n",
       "      <td>11009.0</td>\n",
       "    </tr>\n",
       "    <tr>\n",
       "      <th>MSP</th>\n",
       "      <td>10600</td>\n",
       "      <td>10591.0</td>\n",
       "    </tr>\n",
       "    <tr>\n",
       "      <th>IAH</th>\n",
       "      <td>10537</td>\n",
       "      <td>10537.0</td>\n",
       "    </tr>\n",
       "    <tr>\n",
       "      <th>BOS</th>\n",
       "      <td>9998</td>\n",
       "      <td>9995.0</td>\n",
       "    </tr>\n",
       "    <tr>\n",
       "      <th>DTW</th>\n",
       "      <td>9720</td>\n",
       "      <td>9723.0</td>\n",
       "    </tr>\n",
       "    <tr>\n",
       "      <th>EWR</th>\n",
       "      <td>9662</td>\n",
       "      <td>9702.0</td>\n",
       "    </tr>\n",
       "  </tbody>\n",
       "</table>\n",
       "</div>"
      ],
      "text/plain": [
       "     Origin  Destination\n",
       "ATL   28297      28293.0\n",
       "ORD   20412      20365.0\n",
       "DEN   18043      18067.0\n",
       "LAX   17709      17715.0\n",
       "SFO   14901      14911.0\n",
       "DFW   14857      14849.0\n",
       "PHX   12781      12789.0\n",
       "LAS   12185      12182.0\n",
       "MCO   11483      11496.0\n",
       "SEA   11004      11009.0\n",
       "MSP   10600      10591.0\n",
       "IAH   10537      10537.0\n",
       "BOS    9998       9995.0\n",
       "DTW    9720       9723.0\n",
       "EWR    9662       9702.0"
      ]
     },
     "execution_count": 226,
     "metadata": {},
     "output_type": "execute_result"
    }
   ],
   "source": [
    "# Sort by Origin (desc) and show top 15\n",
    "counts.sort_values(by='Origin',ascending=False).head(15 )"
   ]
  },
  {
   "cell_type": "markdown",
   "metadata": {},
   "source": [
    "**Question**: Given all the information about a flight trip, can you predict if it would be delayed?"
   ]
  },
  {
   "cell_type": "markdown",
   "metadata": {},
   "source": [
    "**No. The ability to predict flight delay with ML depends on many features like past delay data and weather. Only having trip information does not help predict delay.**\n",
    "\n"
   ]
  },
  {
   "cell_type": "markdown",
   "metadata": {},
   "source": [
    "Now, assume you are traveling from San Francisco to Los Angeles on a work trip. You want to have an ideas if your flight will be delayed, given a set of features, so that you can manage your reservations in Los Angeles better. How many features from this dataset would you know before your flight?\n",
    "\n",
    "Columns such as `DepDelay`, `ArrDelay`, `CarrierDelay`, `WeatherDelay`, `NASDelay`, `SecurityDelay`, `LateAircraftDelay`, and `DivArrDelay` contain information about a delay. But this delay could have occured at the origin or destination. If there were a sudden weather delay 10 minutes before landing, this data would not be helpful in managing your Los Angeles reservations.\n",
    "\n",
    "So to simplify the problem statement, consider the following columns to predict an arrival delay:<br>\n",
    "\n",
    "`Year`, `Quarter`, `Month`, `DayofMonth`, `DayOfWeek`, `FlightDate`, `Reporting_Airline`, `Origin`, `OriginState`, `Dest`, `DestState`, `CRSDepTime`, `DepDelayMinutes`, `DepartureDelayGroups`, `Cancelled`, `Diverted`, `Distance`, `DistanceGroup`, `ArrDelay`, `ArrDelayMinutes`, `ArrDel15`, `AirTime`\n",
    "\n",
    "You will also filter the source and destination airports to be:\n",
    "- Top airports: ATL, ORD, DFW, DEN, CLT, LAX, IAH, PHX, SFO\n",
    "- Top 5 airlines: UA, OO, WN, AA, DL\n",
    "\n",
    "This should help in reducing the size of data across the CSV files to be combined."
   ]
  },
  {
   "cell_type": "markdown",
   "metadata": {},
   "source": [
    "#### Combine all CSV files\n",
    "\n",
    "**Hint**:  \n",
    "First, create an empy dataframe that you will use to copy your individual dataframes from each file. Then, for each file in the `csv_files` list:\n",
    "\n",
    "1. Read the CSV file into a dataframe  \n",
    "2. Filter the columns based on the `filter_cols` variable\n",
    "\n",
    "```\n",
    "        columns = ['col1', 'col2']\n",
    "        df_filter = df[columns]\n",
    "```\n",
    "\n",
    "3. Keep only the subset_vals in each of the subset_cols. Use the `isin` Pandas function ([documentation](https://pandas.pydata.org/pandas-docs/stable/reference/api/pandas.DataFrame.isin.html)) to check if the `val` is in the dataframe column and then choose the rows that include it.\n",
    "\n",
    "```\n",
    "        df_eg[df_eg['col1'].isin('5')]\n",
    "```\n",
    "\n",
    "4. Concatenate the dataframe with the empty dataframe "
   ]
  },
  {
   "cell_type": "code",
   "execution_count": 227,
   "metadata": {},
   "outputs": [],
   "source": [
    "def combine_csv(csv_files, filter_cols, subset_cols, subset_vals, file_name):\n",
    "    \"\"\"\n",
    "    Merge multiple CSV files into one DataFrame after filtering.\n",
    "    \n",
    "    Args:\n",
    "        csv_files (list): CSV file names or paths.\n",
    "        filter_cols (list): Columns to load from each CSV.\n",
    "        subset_cols (list): Columns used for filtering.\n",
    "        subset_vals (list of lists): Values to keep for each subset column.\n",
    "        file_name (str): Output CSV file name.\n",
    "    \n",
    "    Returns:\n",
    "        DataFrame: Combined and filtered data.\n",
    "    \"\"\"\n",
    "    \n",
    "    all_data = []\n",
    "    \n",
    "    for file in csv_files:\n",
    "        # Read only selected columns\n",
    "        df = pd.read_csv(os.path.join(csv_base_path, file), usecols=filter_cols)\n",
    "        \n",
    "        # Build combined filter condition dynamically\n",
    "        condition = np.logical_and.reduce([\n",
    "            df[col].isin(vals) for col, vals in zip(subset_cols, subset_vals)\n",
    "        ])\n",
    "        \n",
    "        # Append filtered part\n",
    "        all_data.append(df[condition])\n",
    "    \n",
    "    # Concatenate all dataframes\n",
    "    combined_df = pd.concat(all_data, ignore_index=True)\n",
    "    \n",
    "    # Save as CSV\n",
    "    combined_df.to_csv(file_name, index=False)\n",
    "    \n",
    "    return combined_df\n"
   ]
  },
  {
   "cell_type": "code",
   "execution_count": 228,
   "metadata": {},
   "outputs": [],
   "source": [
    "#cols is the list of columns to predict Arrival Delay \n",
    "cols = ['Year','Quarter','Month','DayofMonth','DayOfWeek','FlightDate',\n",
    "        'Reporting_Airline','Origin','OriginState','Dest','DestState',\n",
    "        'CRSDepTime','Cancelled','Diverted','Distance','DistanceGroup',\n",
    "        'ArrDelay','ArrDelayMinutes','ArrDel15','AirTime']\n",
    "\n",
    "subset_cols = ['Origin', 'Dest', 'Reporting_Airline']\n",
    "\n",
    "# subset_vals is a list collection of the top origin and destination airports and top 5 airlines\n",
    "subset_vals = [['ATL', 'ORD', 'DFW', 'DEN', 'CLT', 'LAX', 'IAH', 'PHX', 'SFO'], \n",
    "               ['ATL', 'ORD', 'DFW', 'DEN', 'CLT', 'LAX', 'IAH', 'PHX', 'SFO'], \n",
    "               ['UA', 'OO', 'WN', 'AA', 'DL']]"
   ]
  },
  {
   "cell_type": "markdown",
   "metadata": {},
   "source": [
    "Use the function above to merge all the different files into a single file that you can read easily. \n",
    "\n",
    "**Note**: This will take 5-7 minutes to complete."
   ]
  },
  {
   "cell_type": "code",
   "execution_count": 229,
   "metadata": {},
   "outputs": [
    {
     "name": "stdout",
     "output_type": "stream",
     "text": [
      "csv's merged in 3.94 minutes\n"
     ]
    }
   ],
   "source": [
    "# Measure time to merge CSV files\n",
    "import time\n",
    "start = time.time()\n",
    "\n",
    "combined_csv_filename = f\"{base_path}/combined_files.csv\"\n",
    "\n",
    "# Combine all CSV files\n",
    "combine_csv(csv_files, cols, subset_cols, subset_vals, combined_csv_filename)\n",
    "\n",
    "print(f\"csv's merged in {round((time.time() - start)/60, 2)} minutes\")\n"
   ]
  },
  {
   "cell_type": "markdown",
   "metadata": {},
   "source": [
    "#### Load dataset\n",
    "\n",
    "Load the combined dataset."
   ]
  },
  {
   "cell_type": "code",
   "execution_count": 29,
   "metadata": {},
   "outputs": [],
   "source": [
    "# reading the combined csv\n",
    "data = pd.read_csv(combined_csv_filename)"
   ]
  },
  {
   "cell_type": "markdown",
   "metadata": {},
   "source": [
    "Print the first 5 records."
   ]
  },
  {
   "cell_type": "code",
   "execution_count": 30,
   "metadata": {},
   "outputs": [
    {
     "data": {
      "text/html": [
       "<div>\n",
       "<style scoped>\n",
       "    .dataframe tbody tr th:only-of-type {\n",
       "        vertical-align: middle;\n",
       "    }\n",
       "\n",
       "    .dataframe tbody tr th {\n",
       "        vertical-align: top;\n",
       "    }\n",
       "\n",
       "    .dataframe thead th {\n",
       "        text-align: right;\n",
       "    }\n",
       "</style>\n",
       "<table border=\"1\" class=\"dataframe\">\n",
       "  <thead>\n",
       "    <tr style=\"text-align: right;\">\n",
       "      <th></th>\n",
       "      <th>Year</th>\n",
       "      <th>Quarter</th>\n",
       "      <th>Month</th>\n",
       "      <th>DayofMonth</th>\n",
       "      <th>DayOfWeek</th>\n",
       "      <th>FlightDate</th>\n",
       "      <th>Reporting_Airline</th>\n",
       "      <th>Origin</th>\n",
       "      <th>OriginState</th>\n",
       "      <th>Dest</th>\n",
       "      <th>DestState</th>\n",
       "      <th>CRSDepTime</th>\n",
       "      <th>ArrDelay</th>\n",
       "      <th>ArrDelayMinutes</th>\n",
       "      <th>ArrDel15</th>\n",
       "      <th>Cancelled</th>\n",
       "      <th>Diverted</th>\n",
       "      <th>AirTime</th>\n",
       "      <th>Distance</th>\n",
       "      <th>DistanceGroup</th>\n",
       "    </tr>\n",
       "  </thead>\n",
       "  <tbody>\n",
       "    <tr>\n",
       "      <th>0</th>\n",
       "      <td>2014</td>\n",
       "      <td>1</td>\n",
       "      <td>1</td>\n",
       "      <td>26</td>\n",
       "      <td>7</td>\n",
       "      <td>2014-01-26</td>\n",
       "      <td>DL</td>\n",
       "      <td>ATL</td>\n",
       "      <td>GA</td>\n",
       "      <td>IAH</td>\n",
       "      <td>TX</td>\n",
       "      <td>2145</td>\n",
       "      <td>-20.0</td>\n",
       "      <td>0.0</td>\n",
       "      <td>0.0</td>\n",
       "      <td>0.0</td>\n",
       "      <td>0.0</td>\n",
       "      <td>99.0</td>\n",
       "      <td>689.0</td>\n",
       "      <td>3</td>\n",
       "    </tr>\n",
       "    <tr>\n",
       "      <th>1</th>\n",
       "      <td>2014</td>\n",
       "      <td>1</td>\n",
       "      <td>1</td>\n",
       "      <td>26</td>\n",
       "      <td>7</td>\n",
       "      <td>2014-01-26</td>\n",
       "      <td>DL</td>\n",
       "      <td>DFW</td>\n",
       "      <td>TX</td>\n",
       "      <td>ATL</td>\n",
       "      <td>GA</td>\n",
       "      <td>945</td>\n",
       "      <td>-3.0</td>\n",
       "      <td>0.0</td>\n",
       "      <td>0.0</td>\n",
       "      <td>0.0</td>\n",
       "      <td>0.0</td>\n",
       "      <td>98.0</td>\n",
       "      <td>731.0</td>\n",
       "      <td>3</td>\n",
       "    </tr>\n",
       "    <tr>\n",
       "      <th>2</th>\n",
       "      <td>2014</td>\n",
       "      <td>1</td>\n",
       "      <td>1</td>\n",
       "      <td>26</td>\n",
       "      <td>7</td>\n",
       "      <td>2014-01-26</td>\n",
       "      <td>DL</td>\n",
       "      <td>ATL</td>\n",
       "      <td>GA</td>\n",
       "      <td>DEN</td>\n",
       "      <td>CO</td>\n",
       "      <td>1855</td>\n",
       "      <td>-7.0</td>\n",
       "      <td>0.0</td>\n",
       "      <td>0.0</td>\n",
       "      <td>0.0</td>\n",
       "      <td>0.0</td>\n",
       "      <td>174.0</td>\n",
       "      <td>1199.0</td>\n",
       "      <td>5</td>\n",
       "    </tr>\n",
       "    <tr>\n",
       "      <th>3</th>\n",
       "      <td>2014</td>\n",
       "      <td>1</td>\n",
       "      <td>1</td>\n",
       "      <td>26</td>\n",
       "      <td>7</td>\n",
       "      <td>2014-01-26</td>\n",
       "      <td>DL</td>\n",
       "      <td>ATL</td>\n",
       "      <td>GA</td>\n",
       "      <td>PHX</td>\n",
       "      <td>AZ</td>\n",
       "      <td>1634</td>\n",
       "      <td>-4.0</td>\n",
       "      <td>0.0</td>\n",
       "      <td>0.0</td>\n",
       "      <td>0.0</td>\n",
       "      <td>0.0</td>\n",
       "      <td>233.0</td>\n",
       "      <td>1587.0</td>\n",
       "      <td>7</td>\n",
       "    </tr>\n",
       "    <tr>\n",
       "      <th>4</th>\n",
       "      <td>2014</td>\n",
       "      <td>1</td>\n",
       "      <td>1</td>\n",
       "      <td>26</td>\n",
       "      <td>7</td>\n",
       "      <td>2014-01-26</td>\n",
       "      <td>DL</td>\n",
       "      <td>PHX</td>\n",
       "      <td>AZ</td>\n",
       "      <td>ATL</td>\n",
       "      <td>GA</td>\n",
       "      <td>700</td>\n",
       "      <td>-13.0</td>\n",
       "      <td>0.0</td>\n",
       "      <td>0.0</td>\n",
       "      <td>0.0</td>\n",
       "      <td>0.0</td>\n",
       "      <td>179.0</td>\n",
       "      <td>1587.0</td>\n",
       "      <td>7</td>\n",
       "    </tr>\n",
       "  </tbody>\n",
       "</table>\n",
       "</div>"
      ],
      "text/plain": [
       "   Year  Quarter  Month  DayofMonth  DayOfWeek  FlightDate Reporting_Airline  \\\n",
       "0  2014        1      1          26          7  2014-01-26                DL   \n",
       "1  2014        1      1          26          7  2014-01-26                DL   \n",
       "2  2014        1      1          26          7  2014-01-26                DL   \n",
       "3  2014        1      1          26          7  2014-01-26                DL   \n",
       "4  2014        1      1          26          7  2014-01-26                DL   \n",
       "\n",
       "  Origin OriginState Dest DestState  CRSDepTime  ArrDelay  ArrDelayMinutes  \\\n",
       "0    ATL          GA  IAH        TX        2145     -20.0              0.0   \n",
       "1    DFW          TX  ATL        GA         945      -3.0              0.0   \n",
       "2    ATL          GA  DEN        CO        1855      -7.0              0.0   \n",
       "3    ATL          GA  PHX        AZ        1634      -4.0              0.0   \n",
       "4    PHX          AZ  ATL        GA         700     -13.0              0.0   \n",
       "\n",
       "   ArrDel15  Cancelled  Diverted  AirTime  Distance  DistanceGroup  \n",
       "0       0.0        0.0       0.0     99.0     689.0              3  \n",
       "1       0.0        0.0       0.0     98.0     731.0              3  \n",
       "2       0.0        0.0       0.0    174.0    1199.0              5  \n",
       "3       0.0        0.0       0.0    233.0    1587.0              7  \n",
       "4       0.0        0.0       0.0    179.0    1587.0              7  "
      ]
     },
     "execution_count": 30,
     "metadata": {},
     "output_type": "execute_result"
    }
   ],
   "source": [
    "# Enter your code here \n",
    "data.head(5)"
   ]
  },
  {
   "cell_type": "markdown",
   "metadata": {},
   "source": [
    "Here are some more questions to help you find out more about your dataset.\n",
    "\n",
    "**Questions**   \n",
    "1. How many rows and columns does the dataset have?   \n",
    "2. How many years are included in the dataset?   \n",
    "3. What is the date range for the dataset?   \n",
    "4. Which airlines are included in the dataset?   \n",
    "5. Which origin and destination airports are covered?"
   ]
  },
  {
   "cell_type": "code",
   "execution_count": 31,
   "metadata": {},
   "outputs": [
    {
     "name": "stdout",
     "output_type": "stream",
     "text": [
      "1. The dataset has 1658130 rows and 20 columns.\n",
      "\n",
      "2. Years: [2014, 2015, 2016, 2017, 2018]\n",
      "   Number of years: 5\n",
      "   Months: [1, 2, 3, 4, 5, 6, 7, 8, 9, 10, 11, 12]\n",
      "   Number of months: 12\n",
      "\n",
      "3. Date range: 2014-01-01 to 2018-12-31\n",
      "\n",
      "4. Airlines: ['DL', 'OO', 'WN', 'UA', 'AA']\n",
      "\n",
      "5. Origin airports: ['ATL', 'DFW', 'PHX', 'DEN', 'IAH', 'CLT', 'SFO', 'LAX', 'ORD']\n",
      "   Destination airports: ['IAH', 'ATL', 'DEN', 'PHX', 'CLT', 'LAX', 'DFW', 'SFO', 'ORD']\n"
     ]
    }
   ],
   "source": [
    "# 1. Dataset shape\n",
    "rows, cols = data.shape\n",
    "print(f\"1. The dataset has {rows} rows and {cols} columns.\")\n",
    "\n",
    "# 2. Years and months in dataset\n",
    "years = sorted([int(y) for y in data['Year'].unique()])\n",
    "months = sorted([int(m) for m in data['Month'].unique()])\n",
    "\n",
    "print(f\"\\n2. Years: {years}\")\n",
    "print(f\"   Number of years: {len(years)}\")\n",
    "print(f\"   Months: {months}\")\n",
    "print(f\"   Number of months: {len(months)}\")\n",
    "\n",
    "# 3. Date range\n",
    "date_min, date_max = data['FlightDate'].min(), data['FlightDate'].max()\n",
    "print(f\"\\n3. Date range: {date_min} to {date_max}\")\n",
    "\n",
    "# 4. Airlines\n",
    "airlines = data['Reporting_Airline'].unique()\n",
    "print(f\"\\n4. Airlines: {list(airlines)}\")\n",
    "\n",
    "# 5. Origin and destination airports\n",
    "origins = data['Origin'].unique()\n",
    "dests = data['Dest'].unique()\n",
    "print(f\"\\n5. Origin airports: {list(origins)}\")\n",
    "print(f\"   Destination airports: {list(dests)}\")\n"
   ]
  },
  {
   "cell_type": "markdown",
   "metadata": {},
   "source": [
    "Let's define our **target column : is_delay** (1 - if arrival time delayed more than 15 minutes, 0 - otherwise). Use the `rename` method to rename the column from `ArrDel15` to `is_delay`.\n",
    "\n",
    "**Hint**: You can use the Pandas `rename` function ([documentation](https://pandas.pydata.org/pandas-docs/stable/reference/api/pandas.DataFrame.rename.html)).\n",
    "\n",
    "For example:\n",
    "```\n",
    "df.rename(columns={'col1':'column1'}, inplace=True)\n",
    "```"
   ]
  },
  {
   "cell_type": "code",
   "execution_count": 32,
   "metadata": {},
   "outputs": [],
   "source": [
    "# Rename column 'ArrDel15' to 'is_delay'\n",
    "data.rename(columns={'ArrDel15' : 'is_delay'}, inplace=True)"
   ]
  },
  {
   "cell_type": "markdown",
   "metadata": {},
   "source": [
    "Look for nulls across columns. You can use the `isnull()` function ([documentation](https://pandas.pydata.org/pandas-docs/version/0.17.0/generated/pandas.isnull.html)).\n",
    "\n",
    "**Hint**: `isnull()` detects whether the particular value is null or not and gives you a boolean (True or False) in its place. Use the `sum(axis=0)` function to sum up the number of columns."
   ]
  },
  {
   "cell_type": "code",
   "execution_count": 33,
   "metadata": {},
   "outputs": [
    {
     "data": {
      "text/plain": [
       "Year                     0\n",
       "Quarter                  0\n",
       "Month                    0\n",
       "DayofMonth               0\n",
       "DayOfWeek                0\n",
       "FlightDate               0\n",
       "Reporting_Airline        0\n",
       "Origin                   0\n",
       "OriginState              0\n",
       "Dest                     0\n",
       "DestState                0\n",
       "CRSDepTime               0\n",
       "ArrDelay             22540\n",
       "ArrDelayMinutes      22540\n",
       "is_delay             22540\n",
       "Cancelled                0\n",
       "Diverted                 0\n",
       "AirTime              22540\n",
       "Distance                 0\n",
       "DistanceGroup            0\n",
       "dtype: int64"
      ]
     },
     "execution_count": 33,
     "metadata": {},
     "output_type": "execute_result"
    }
   ],
   "source": [
    "# Check null values in all columns\n",
    "data.isnull().sum(axis=0)"
   ]
  },
  {
   "cell_type": "markdown",
   "metadata": {},
   "source": [
    "The arrival delay details and airtime are missing for 22540 out of 1658130 rows, which is 1.3%. You can either remove or impute these rows. The documentation does not mention anything about missing rows.\n",
    "\n",
    "**Hint**: Use the `~` operator to choose the values that aren't null from the `isnull()` output.\n",
    "\n",
    "For example:\n",
    "```\n",
    "null_eg = df_eg[~df_eg['column_name'].isnull()]\n",
    "```"
   ]
  },
  {
   "cell_type": "code",
   "execution_count": 34,
   "metadata": {},
   "outputs": [
    {
     "name": "stdout",
     "output_type": "stream",
     "text": [
      "Number of rows before cleaning = 1658130\n",
      "Number of rows after cleaning  = 1635590\n"
     ]
    }
   ],
   "source": [
    "# Rows before cleaning\n",
    "print(f\"Number of rows before cleaning = {len(data)}\")\n",
    "\n",
    "# Remove rows with missing values in key columns\n",
    "data = data.dropna(subset=['ArrDelay', 'ArrDelayMinutes', 'AirTime'])\n",
    "\n",
    "# Rows after cleaning\n",
    "print(f\"Number of rows after cleaning  = {len(data)}\")"
   ]
  },
  {
   "cell_type": "code",
   "execution_count": 35,
   "metadata": {},
   "outputs": [
    {
     "name": "stdout",
     "output_type": "stream",
     "text": [
      "Year                 0\n",
      "Quarter              0\n",
      "Month                0\n",
      "DayofMonth           0\n",
      "DayOfWeek            0\n",
      "FlightDate           0\n",
      "Reporting_Airline    0\n",
      "Origin               0\n",
      "OriginState          0\n",
      "Dest                 0\n",
      "DestState            0\n",
      "CRSDepTime           0\n",
      "ArrDelay             0\n",
      "ArrDelayMinutes      0\n",
      "is_delay             0\n",
      "Cancelled            0\n",
      "Diverted             0\n",
      "AirTime              0\n",
      "Distance             0\n",
      "DistanceGroup        0\n",
      "dtype: int64\n"
     ]
    }
   ],
   "source": [
    "# Check if any null values remain\n",
    "null_counts = data.isnull().sum()\n",
    "print(null_counts)"
   ]
  },
  {
   "cell_type": "markdown",
   "metadata": {},
   "source": [
    "Get the hour of the day in 24-hour time format from CRSDepTime."
   ]
  },
  {
   "cell_type": "code",
   "execution_count": 36,
   "metadata": {},
   "outputs": [
    {
     "name": "stdout",
     "output_type": "stream",
     "text": [
      "   CRSDepTime  DepHourofDay\n",
      "0        2145            21\n",
      "1         945             9\n",
      "2        1855            18\n",
      "3        1634            16\n",
      "4         700             7\n"
     ]
    }
   ],
   "source": [
    "# Create new column for departure hour\n",
    "data['DepHourofDay'] = data['CRSDepTime'] // 100\n",
    "\n",
    "# Display sample of original and new columns\n",
    "print(data[['CRSDepTime', 'DepHourofDay']].head())\n"
   ]
  },
  {
   "cell_type": "markdown",
   "metadata": {},
   "source": [
    "## **The ML problem statement**\n",
    "- Given a set of features, can you predict if a flight is going to be delayed more than 15 minutes?\n",
    "- Because the target variable takes only 0/1 value, you could use a classification algorithm. "
   ]
  },
  {
   "cell_type": "markdown",
   "metadata": {},
   "source": [
    "### Data exploration\n",
    "\n",
    "#### Check class delay vs. no delay\n",
    "\n",
    "**Hint**: Use a `groupby` plot ([documentation](https://pandas.pydata.org/pandas-docs/stable/reference/api/pandas.DataFrame.groupby.html)) with a `bar` plot ([documentation](https://matplotlib.org/tutorials/introductory/pyplot.html)) to plot the frequency vs. distribution of the class."
   ]
  },
  {
   "cell_type": "code",
   "execution_count": 37,
   "metadata": {},
   "outputs": [
    {
     "data": {
      "image/png": "[encoded data removed]",
      "text/plain": [
       "<Figure size 640x480 with 1 Axes>"
      ]
     },
     "metadata": {},
     "output_type": "display_data"
    }
   ],
   "source": [
    "(data.groupby('is_delay').size()/len(data) ).plot(kind='bar')\n",
    "plt.ylabel('Frequency')\n",
    "plt.title('Distribution of classes')\n",
    "plt.show()"
   ]
  },
  {
   "cell_type": "markdown",
   "metadata": {},
   "source": [
    "**Question**: What can you deduce from the bar plot about the ratio of delay vs. no delay?"
   ]
  },
  {
   "cell_type": "markdown",
   "metadata": {},
   "source": [
    "### **Flight Delay Distribution Insights**\n",
    "\n",
    "- **Most flights (about 80%)** are on time or have **a delay under 15 minutes**.  \n",
    "- **Some flights (about 20%)** are **delayed more than 15 minutes**.  \n",
    "- This shows the dataset is **uneven**, with more on-time flights than delayed ones.  \n",
    "\n"
   ]
  },
  {
   "cell_type": "markdown",
   "metadata": {},
   "source": [
    "**Questions**: \n",
    "\n",
    "- Which months have the most delays?\n",
    "- What time of the day has the most delays?\n",
    "- What day of the week has the most delays?\n",
    "- Which airline has the most delays?\n",
    "- Which origin and destination airports have the most delays?\n",
    "- Is flight distance a factor in the delays?"
   ]
  },
  {
   "cell_type": "code",
   "execution_count": 38,
   "metadata": {},
   "outputs": [
    {
     "data": {
      "image/png": "[encoded data removed]",
      "text/plain": [
       "<Figure size 2000x2000 with 6 Axes>"
      ]
     },
     "metadata": {},
     "output_type": "display_data"
    }
   ],
   "source": [
    "viz_columns = ['Month', 'DepHourofDay', 'DayOfWeek', 'Reporting_Airline', 'Origin', 'Dest']\n",
    "fig, axes = plt.subplots(3, 2, figsize=(20,20), squeeze=False)\n",
    "# fig.autofmt_xdate(rotation=90)\n",
    "\n",
    "for idx, column in enumerate(viz_columns):\n",
    "    ax = axes[idx//2, idx%2]\n",
    "    temp = data.groupby(column)['is_delay'].value_counts(normalize=True).rename('percentage').\\\n",
    "    mul(100).reset_index().sort_values(column)\n",
    "    sns.barplot(x=column, y=\"percentage\", hue=\"is_delay\", data=temp, ax=ax)\n",
    "    plt.ylabel('% delay/no-delay')\n",
    "    \n",
    "\n",
    "plt.show()"
   ]
  },
  {
   "cell_type": "code",
   "execution_count": 39,
   "metadata": {},
   "outputs": [
    {
     "data": {
      "image/png": "[encoded data removed]",
      "text/plain": [
       "<Figure size 500x500 with 1 Axes>"
      ]
     },
     "metadata": {},
     "output_type": "display_data"
    }
   ],
   "source": [
    "sns.lmplot( x=\"is_delay\", y=\"Distance\", data=data, fit_reg=False, hue='is_delay', legend=False)\n",
    "plt.legend(loc='center')\n",
    "plt.xlabel('is_delay')\n",
    "plt.ylabel('Distance')\n",
    "plt.show()"
   ]
  },
  {
   "cell_type": "markdown",
   "metadata": {},
   "source": [
    "### Which months have the most delays?\n",
    "- The first bar chart shows that **June**, followed by **July** and **August**, has the most delays.  \n",
    "- These months have many more delayed flights (marked as 1.0) than other months, while **September** has the fewest.\n",
    "\n",
    "### What time of the day has the most delays?\n",
    "- The second chart shows that **late afternoon to evening (15:00–20:00)** has the most delays, with **20:00 (8 PM)** being the peak.  \n",
    "- Flights **early in the morning**, around **4:00 AM**, have almost no delays.\n",
    "\n",
    "### What day of the week has the most delays?\n",
    "- The third chart shows that **Thursday (Day 4)** has the most delays.  \n",
    "- **Tuesday (Day 2)** has the fewest.\n",
    "\n",
    "### Which airline has the most delays?\n",
    "- The fourth chart shows that **WN Airlines** has the most delays, followed by **OO Airlines**.  \n",
    "- **DL Airlines** has the fewest.\n",
    "\n",
    "### Which origin and destination airports have the most delays?\n",
    "- **SFO** has the most delays among **destination airports**, and **ORD** has the most delays among **origin airports**.\n",
    "\n"
   ]
  },
  {
   "cell_type": "markdown",
   "metadata": {},
   "source": [
    "### Features\n",
    "\n",
    "Look at all the columns and what their specific types are."
   ]
  },
  {
   "cell_type": "code",
   "execution_count": 40,
   "metadata": {},
   "outputs": [
    {
     "data": {
      "text/plain": [
       "Index(['Year', 'Quarter', 'Month', 'DayofMonth', 'DayOfWeek', 'FlightDate',\n",
       "       'Reporting_Airline', 'Origin', 'OriginState', 'Dest', 'DestState',\n",
       "       'CRSDepTime', 'ArrDelay', 'ArrDelayMinutes', 'is_delay', 'Cancelled',\n",
       "       'Diverted', 'AirTime', 'Distance', 'DistanceGroup', 'DepHourofDay'],\n",
       "      dtype='object')"
      ]
     },
     "execution_count": 40,
     "metadata": {},
     "output_type": "execute_result"
    }
   ],
   "source": [
    "data.columns"
   ]
  },
  {
   "cell_type": "code",
   "execution_count": 41,
   "metadata": {},
   "outputs": [
    {
     "data": {
      "text/plain": [
       "Year                   int64\n",
       "Quarter                int64\n",
       "Month                  int64\n",
       "DayofMonth             int64\n",
       "DayOfWeek              int64\n",
       "FlightDate            object\n",
       "Reporting_Airline     object\n",
       "Origin                object\n",
       "OriginState           object\n",
       "Dest                  object\n",
       "DestState             object\n",
       "CRSDepTime             int64\n",
       "ArrDelay             float64\n",
       "ArrDelayMinutes      float64\n",
       "is_delay             float64\n",
       "Cancelled            float64\n",
       "Diverted             float64\n",
       "AirTime              float64\n",
       "Distance             float64\n",
       "DistanceGroup          int64\n",
       "DepHourofDay           int64\n",
       "dtype: object"
      ]
     },
     "execution_count": 41,
     "metadata": {},
     "output_type": "execute_result"
    }
   ],
   "source": [
    "data.dtypes"
   ]
  },
  {
   "cell_type": "markdown",
   "metadata": {},
   "source": [
    "Filtering the required columns:\n",
    "- Date is redundant, because you have Year, Quarter, Month, DayofMonth, and DayOfWeek to describe the date.\n",
    "- Use Origin and Dest codes instead of OriginState and DestState.\n",
    "- Because you are just classifying whether the flight is delayed or not, you don't need TotalDelayMinutes, DepDelayMinutes, and ArrDelayMinutes.\n",
    "\n",
    "Treat DepHourofDay as a categorical variable because it doesn't have any quantitative relation with the target.\n",
    "- If you had to do a one-hot encoding of it, it would result in 23 more columns.\n",
    "- Other alternatives to handling categorical variables include hash encoding, regularized mean encoding, and bucketizing the values, among others.\n",
    "- Just split into buckets here.\n",
    "\n",
    "**Hint**: To change a column type to category, use the `astype` function ([documentation](https://pandas.pydata.org/pandas-docs/stable/reference/api/pandas.DataFrame.astype.html))."
   ]
  },
  {
   "cell_type": "code",
   "execution_count": 42,
   "metadata": {},
   "outputs": [],
   "source": [
    "data_orig = data.copy()\n",
    "data = data[[ 'is_delay', 'Quarter', 'Month', 'DayofMonth', 'DayOfWeek', \n",
    "       'Reporting_Airline', 'Origin', 'Dest','Distance','DepHourofDay']]\n",
    "categorical_columns  = ['Quarter', 'Month', 'DayofMonth', 'DayOfWeek', \n",
    "       'Reporting_Airline', 'Origin', 'Dest', 'DepHourofDay']\n",
    "for c in categorical_columns:\n",
    "    data[c] = data[c].astype('category')"
   ]
  },
  {
   "cell_type": "markdown",
   "metadata": {},
   "source": [
    "To use one-hot encoding, use the Pandas `get_dummies` function for the categorical columns that you selected above. Then, you can concatenate those generated features to your original dataset using the Pandas `concat` function. For encoding categorical variables, you can also use *dummy encoding* by using a keyword `drop_first=True`. For more information on dummy encoding, see https://en.wikiversity.org/wiki/Dummy_variable_(statistics).\n",
    "\n",
    "For example:\n",
    "```\n",
    "pd.get_dummies(df[['column1','columns2']], drop_first=True)\n",
    "```"
   ]
  },
  {
   "cell_type": "code",
   "execution_count": 43,
   "metadata": {},
   "outputs": [],
   "source": [
    "data_dummies = pd.get_dummies(data[categorical_columns[:-1]], drop_first=True)\n",
    "data = pd.concat([data, data_dummies], axis = 1)\n",
    "data.drop(categorical_columns,axis=1, inplace=True)"
   ]
  },
  {
   "cell_type": "markdown",
   "metadata": {},
   "source": [
    "Check the length of the dataset and the new columnms."
   ]
  },
  {
   "cell_type": "code",
   "execution_count": 44,
   "metadata": {},
   "outputs": [
    {
     "data": {
      "text/plain": [
       "1635590"
      ]
     },
     "execution_count": 44,
     "metadata": {},
     "output_type": "execute_result"
    }
   ],
   "source": [
    "len(data)"
   ]
  },
  {
   "cell_type": "code",
   "execution_count": 46,
   "metadata": {},
   "outputs": [
    {
     "name": "stdout",
     "output_type": "stream",
     "text": [
      "Dataset contains 1635590 rows and 72 columns.\n",
      "Columns after one-hot encoding:\n",
      "Index(['is_delay', 'Distance', 'Quarter_2', 'Quarter_3', 'Quarter_4',\n",
      "       'Month_2', 'Month_3', 'Month_4', 'Month_5', 'Month_6', 'Month_7',\n",
      "       'Month_8', 'Month_9', 'Month_10', 'Month_11', 'Month_12',\n",
      "       'DayofMonth_2', 'DayofMonth_3', 'DayofMonth_4', 'DayofMonth_5',\n",
      "       'DayofMonth_6', 'DayofMonth_7', 'DayofMonth_8', 'DayofMonth_9',\n",
      "       'DayofMonth_10', 'DayofMonth_11', 'DayofMonth_12', 'DayofMonth_13',\n",
      "       'DayofMonth_14', 'DayofMonth_15', 'DayofMonth_16', 'DayofMonth_17',\n",
      "       'DayofMonth_18', 'DayofMonth_19', 'DayofMonth_20', 'DayofMonth_21',\n",
      "       'DayofMonth_22', 'DayofMonth_23', 'DayofMonth_24', 'DayofMonth_25',\n",
      "       'DayofMonth_26', 'DayofMonth_27', 'DayofMonth_28', 'DayofMonth_29',\n",
      "       'DayofMonth_30', 'DayofMonth_31', 'DayOfWeek_2', 'DayOfWeek_3',\n",
      "       'DayOfWeek_4', 'DayOfWeek_5', 'DayOfWeek_6', 'DayOfWeek_7',\n",
      "       'Reporting_Airline_DL', 'Reporting_Airline_OO', 'Reporting_Airline_UA',\n",
      "       'Reporting_Airline_WN', 'Origin_CLT', 'Origin_DEN', 'Origin_DFW',\n",
      "       'Origin_IAH', 'Origin_LAX', 'Origin_ORD', 'Origin_PHX', 'Origin_SFO',\n",
      "       'Dest_CLT', 'Dest_DEN', 'Dest_DFW', 'Dest_IAH', 'Dest_LAX', 'Dest_ORD',\n",
      "       'Dest_PHX', 'Dest_SFO'],\n",
      "      dtype='object')\n"
     ]
    }
   ],
   "source": [
    "num_rows, num_cols = data.shape\n",
    "print(f\"Dataset contains {num_rows} rows and {num_cols} columns.\")\n",
    "print(\"Columns after one-hot encoding:\")\n",
    "print(data.columns)"
   ]
  },
  {
   "cell_type": "markdown",
   "metadata": {},
   "source": [
    "**Sample Answer:** \n",
    "```\n",
    "Index(['Distance', 'is_delay', 'Quarter_2', 'Quarter_3', 'Quarter_4',\n",
    "       'Month_2', 'Month_3', 'Month_4', 'Month_5', 'Month_6', 'Month_7',\n",
    "       'Month_8', 'Month_9', 'Month_10', 'Month_11', 'Month_12',\n",
    "       'DayofMonth_2', 'DayofMonth_3', 'DayofMonth_4', 'DayofMonth_5',\n",
    "       'DayofMonth_6', 'DayofMonth_7', 'DayofMonth_8', 'DayofMonth_9',\n",
    "       'DayofMonth_10', 'DayofMonth_11', 'DayofMonth_12', 'DayofMonth_13',\n",
    "       'DayofMonth_14', 'DayofMonth_15', 'DayofMonth_16', 'DayofMonth_17',\n",
    "       'DayofMonth_18', 'DayofMonth_19', 'DayofMonth_20', 'DayofMonth_21',\n",
    "       'DayofMonth_22', 'DayofMonth_23', 'DayofMonth_24', 'DayofMonth_25',\n",
    "       'DayofMonth_26', 'DayofMonth_27', 'DayofMonth_28', 'DayofMonth_29',\n",
    "       'DayofMonth_30', 'DayofMonth_31', 'DayOfWeek_2', 'DayOfWeek_3',\n",
    "       'DayOfWeek_4', 'DayOfWeek_5', 'DayOfWeek_6', 'DayOfWeek_7',\n",
    "       'Reporting_Airline_DL', 'Reporting_Airline_OO', 'Reporting_Airline_UA',\n",
    "       'Reporting_Airline_WN', 'Origin_CLT', 'Origin_DEN', 'Origin_DFW',\n",
    "       'Origin_IAH', 'Origin_LAX', 'Origin_ORD', 'Origin_PHX', 'Origin_SFO',\n",
    "       'Dest_CLT', 'Dest_DEN', 'Dest_DFW', 'Dest_IAH', 'Dest_LAX', 'Dest_ORD',\n",
    "       'Dest_PHX', 'Dest_SFO'],\n",
    "      dtype='object')\n",
    "```"
   ]
  },
  {
   "cell_type": "markdown",
   "metadata": {},
   "source": [
    "Now you are ready to do model training. Before splitting the data, rename the column `is_delay` to `target`.\n",
    "\n",
    "**Hint**: You can use the Pandas `rename` function ([documentation](https://pandas.pydata.org/pandas-docs/stable/reference/api/pandas.DataFrame.rename.html))."
   ]
  },
  {
   "cell_type": "code",
   "execution_count": 47,
   "metadata": {},
   "outputs": [],
   "source": [
    "data.rename(columns = {'is_delay':'target'}, inplace=True )"
   ]
  },
  {
   "cell_type": "code",
   "execution_count": 48,
   "metadata": {},
   "outputs": [
    {
     "name": "stdout",
     "output_type": "stream",
     "text": [
      "Combined CSV file saved as combined_csv_v1.csv\n",
      "Note: This combined file will be used in Part B.\n"
     ]
    }
   ],
   "source": [
    "output_file = 'combined_csv_v1.csv'\n",
    "data.to_csv(output_file, index=False)\n",
    "print(f\"Combined CSV file saved as {output_file}\")\n",
    "print(\"Note: This combined file will be used in Part B.\")\n"
   ]
  },
  {
   "cell_type": "markdown",
   "metadata": {},
   "source": [
    "# Step 3: Model training and evaluation\n",
    "\n",
    "1. Split the data into `train_data`, and `test_data` using `sklearn.model_selection.train_test_split`.  \n",
    "2. Build a logistic regression model for the data, where training data is 80%, and test data is 20%.\n",
    "\n",
    "Use the following cells to complete these steps. Insert and delete cells where needed.\n"
   ]
  },
  {
   "cell_type": "markdown",
   "metadata": {},
   "source": [
    "### Train test split"
   ]
  },
  {
   "cell_type": "code",
   "execution_count": 99,
   "metadata": {},
   "outputs": [],
   "source": [
    "# Get the current script directory\n",
    "\n",
    "base_path = os.path.dirname(os.path.abspath(__file__))\n",
    "\n",
    "# Path to the dataset (relative path)\n",
    "file_name = os.path.join(base_path, \"data\", \"combined_csv_v1.csv\")\n",
    "temp_data = pd.read_csv(file_name)\n",
    "\n",
    "# Separate features and target\n",
    "X = temp_data.drop(columns=['target'])\n",
    "y = temp_data['target']\n",
    "\n",
    "# Split data into training and testing sets (80% / 20%)\n",
    "from sklearn.model_selection import train_test_split\n",
    "X_train, X_test, y_train, y_test = train_test_split(\n",
    "    X, y, test_size=0.2, random_state=42\n",
    ")\n"
   ]
  },
  {
   "cell_type": "markdown",
   "metadata": {},
   "source": [
    "### Baseline classification model"
   ]
  },
  {
   "cell_type": "code",
   "execution_count": 100,
   "metadata": {},
   "outputs": [
    {
     "name": "stdout",
     "output_type": "stream",
     "text": [
      "              precision    recall  f1-score   support\n",
      "\n",
      "    No Delay       0.79      1.00      0.88    258421\n",
      "       Delay       1.00      0.00      0.00     68697\n",
      "\n",
      "    accuracy                           0.79    327118\n",
      "   macro avg       0.89      0.50      0.44    327118\n",
      "weighted avg       0.83      0.79      0.70    327118\n",
      "\n"
     ]
    }
   ],
   "source": [
    "from sklearn.linear_model import LogisticRegression\n",
    "from sklearn.metrics import classification_report\n",
    "\n",
    "y_pred = LogisticRegression().fit(X_train, y_train).predict(X_test)\n",
    "print(classification_report(y_test, y_pred, target_names=['No Delay', 'Delay']))\n"
   ]
  },
  {
   "cell_type": "markdown",
   "metadata": {},
   "source": [
    "## Model evaluation\n",
    "In this section, you'll evaluate your trained model on test data and report on the following metrics:\n",
    "* Confusion Matrix plot\n",
    "* Plot the ROC\n",
    "* Report statistics such as Accuracy, Percision, Recall, Sensitivity and Specificity"
   ]
  },
  {
   "cell_type": "markdown",
   "metadata": {},
   "source": [
    "To view a plot of the confusion matrix, and various scoring metrics, create a couple of functions:"
   ]
  },
  {
   "cell_type": "code",
   "execution_count": 132,
   "metadata": {},
   "outputs": [],
   "source": [
    "def plot_confusion_matrix(y_true, y_pred, title='Confusion Matrix'):\n",
    "    # Create confusion matrix\n",
    "    cm = confusion_matrix(y_true, y_pred)\n",
    "    \n",
    "    # Set figure size\n",
    "    plt.figure(figsize=(6, 5))\n",
    "    \n",
    "    # Plot heatmap\n",
    "    sns.heatmap(cm, annot=True, fmt='d', cmap='Blues',\n",
    "                xticklabels=['No Delay', 'Delay'],\n",
    "                yticklabels=['No Delay', 'Delay'])\n",
    "    \n",
    "    # Add labels and title\n",
    "    plt.title(title, fontsize=14)\n",
    "    plt.xlabel('Predicted', fontsize=12)\n",
    "    plt.ylabel('Actual', fontsize=12)\n",
    "    \n",
    "    # Adjust layout and show plot\n",
    "    plt.tight_layout()\n",
    "    plt.show()\n",
    "\n"
   ]
  },
  {
   "cell_type": "code",
   "execution_count": 133,
   "metadata": {},
   "outputs": [],
   "source": [
    "from sklearn.metrics import roc_curve, auc\n",
    "import matplotlib.pyplot as plt\n",
    "\n",
    "def plot_roc(test_labels, target_predicted):\n",
    "    # Calculate ROC curve points\n",
    "    fpr, tpr, thresholds = roc_curve(test_labels, target_predicted)\n",
    "    \n",
    "    # Compute AUC value\n",
    "    roc_auc = auc(fpr, tpr)\n",
    "    \n",
    "    # Plot ROC curve\n",
    "    plt.figure()\n",
    "    plt.plot(fpr, tpr, label='ROC curve (area = %0.2f)' % roc_auc)\n",
    "    plt.plot([0, 1], [0, 1], linestyle='--')  # Reference line\n",
    "    plt.xlabel('False Positive Rate')\n",
    "    plt.ylabel('True Positive Rate')\n",
    "    plt.title('ROC Curve')\n",
    "    plt.legend()\n",
    "    plt.show()\n",
    "\n",
    "# Get predicted probabilities for the positive class\n",
    "y_scores = logreg.predict_proba(X_test)[:, 1]\n",
    "\n",
    "\n"
   ]
  },
  {
   "cell_type": "markdown",
   "metadata": {},
   "source": [
    "To plot the confusion matrix, call the `plot_confusion_matrix` function on the `test_labels` and `target_predicted` data from your batch job:"
   ]
  },
  {
   "cell_type": "code",
   "execution_count": 134,
   "metadata": {},
   "outputs": [
    {
     "data": {
      "image/png": "[encoded data removed]",
      "text/plain": [
       "<Figure size 600x500 with 2 Axes>"
      ]
     },
     "metadata": {},
     "output_type": "display_data"
    }
   ],
   "source": [
    "# Calling the function to plot the confusion matrix\n",
    "plot_confusion_matrix(y_test, y_pred)"
   ]
  },
  {
   "cell_type": "markdown",
   "metadata": {},
   "source": [
    "To print statistics and plot an ROC curve, call the `plot_roc` function on the `test_labels` and `target_predicted` data from your batch job:"
   ]
  },
  {
   "cell_type": "code",
   "execution_count": 135,
   "metadata": {},
   "outputs": [
    {
     "data": {
      "image/png": "[encoded data removed]",
      "text/plain": [
       "<Figure size 640x480 with 1 Axes>"
      ]
     },
     "metadata": {},
     "output_type": "display_data"
    }
   ],
   "source": [
    "# Plotting roc curve\n",
    "plot_roc(y_test, y_scores)"
   ]
  },
  {
   "cell_type": "code",
   "execution_count": 136,
   "metadata": {},
   "outputs": [
    {
     "name": "stdout",
     "output_type": "stream",
     "text": [
      "Train Accuracy: 0.7901\n",
      "Test Accuracy: 0.7900\n",
      "Recall: 1.0000\n",
      "Precision: 0.7900\n",
      "Sensitivity: 1.0000\n",
      "Specificity: 0.0000\n",
      "F1 Score: 0.8827\n"
     ]
    }
   ],
   "source": [
    "cm = confusion_matrix(y_test, y_pred)\n",
    "\n",
    "train_acc = metrics.accuracy_score(y_train, logreg.predict(X_train))\n",
    "test_acc = metrics.accuracy_score(y_test, logreg.predict(X_test))\n",
    "recall = cm[0, 0] / (cm[0, 0] + cm[0, 1])\n",
    "precision = cm[0, 0] / (cm[0, 0] + cm[1, 0])\n",
    "specificity = cm[1, 1] / (cm[1, 0] + cm[1, 1])\n",
    "f1 = cm[0, 0] / (cm[0, 0] + 0.5 * (cm[1, 0] + cm[0, 1]))\n",
    "\n",
    "print(f\"Train Accuracy: {train_acc:.4f}\\nTest Accuracy: {test_acc:.4f}\\n\"\n",
    "      f\"Recall: {recall:.4f}\\nPrecision: {precision:.4f}\\n\"\n",
    "      f\"Sensitivity: {recall:.4f}\\nSpecificity: {specificity:.4f}\\nF1 Score: {f1:.4f}\")\n",
    "\n"
   ]
  },
  {
   "cell_type": "markdown",
   "metadata": {},
   "source": [
    "\n",
    "**Question**: What can you summarize from the confusion matrix?\n"
   ]
  },
  {
   "cell_type": "markdown",
   "metadata": {},
   "source": [
    "### Key questions to consider:\n",
    "\n",
    "### 1. How does your model's performance on the test set compare to the training set? What can you deduce from this comparison?\n",
    "\n",
    "The training accuracy is **0.7901**, and the test accuracy is **0.7900**.  \n",
    "They are almost the same.  \n",
    "This shows the model works the same on both datasets.  \n",
    "It is not overfitted and can handle new data well.\n",
    "### 2. Are there obvious differences between the outcomes of metrics like accuracy, precision, and recall? If so, why might you be seeing those differences?\n",
    "Yes, there are some differences between these metrics.  \n",
    "The accuracy is **79%**, the recall and sensitivity are **100%**, and the specificity is **0%**.  \n",
    "The model found all delayed flights, but it did not find any “No Delay” flights.  \n",
    "It predicts almost every flight as delayed.  \n",
    "The precision is **79%**, which means 79% of the flights predicted as delayed were truly delayed.  \n",
    "These differences happen because the dataset is unbalanced, and the “Delay” class has more data.\n",
    "### 3. Is the outcome for the metric(s) you consider most important sufficient for what you need from a business standpoint? If not, what are some things you might change in your next iteration (in the feature engineering section, which is coming up next)?\n",
    "\n",
    "From a business view, this result is not good enough.  \n",
    "The recall of **1.0** means all delayed flights are found,  \n",
    "but the specificity of **0.0** means the model predicts all flights as delayed.  \n",
    "This can cause many false alarms and confuse customers.  \n",
    "To make the model better, we can:\n",
    "- Add new features (like weather, holidays, and airport traffic)  \n",
    "- Change the decision threshold to lower false positives  \n",
    "- Remove correlated features that may confuse the model  "
   ]
  },
  {
   "cell_type": "markdown",
   "metadata": {},
   "source": [
    "# Step 4: Deployment\n",
    "\n",
    "1. In this step you are required to push your source code and requirements file to a GitHub repository without the data files. Please use the Git commands to complete this task\n",
    "2- Create a “readme.md” markdown file that describes the code of this repository and how to run it and what the user would expect if got the code running.\n",
    "\n",
    "In the cell below provide the link of the pushed repository on your GitHub account, and ensure it is public.\n"
   ]
  },
  {
   "cell_type": "markdown",
   "metadata": {},
   "source": [
    "https://github.com/David19940905/Predicting-Airplane-Delays.git"
   ]
  },
  {
   "cell_type": "markdown",
   "metadata": {
    "jp-MarkdownHeadingCollapsed": true
   },
   "source": [
    "# Iteration II"
   ]
  },
  {
   "cell_type": "markdown",
   "metadata": {},
   "source": [
    "# Step 5: Feature engineering\n",
    "\n",
    "You've now gone through one iteration of training and evaluating your model. Given that the outcome you reached for your model the first time probably wasn't sufficient for solving your business problem, what are some things you could change about your data to possibly improve model performance?\n",
    "\n",
    "### Key questions to consider:\n",
    "1. How might the balance of your two main classes (delay and no delay) impact model performance?\n",
    "2. Do you have any features that are correlated?\n",
    "3. Are there feature reduction techniques you could perform at this stage that might have a positive impact on model performance? \n",
    "4. Can you think of adding some more data/datasets?\n",
    "4. After performing some feature engineering, how does your model performance compare to the first iteration?\n",
    "\n",
    "Use the cells below to perform specific feature engineering techniques (per the questions above) that you think could improve your model performance. Insert and delete cells where needed.\n",
    "\n",
    "\n",
    "Before you start, think about why the precision and recall are around 80% while the accuracy is 99%."
   ]
  },
  {
   "cell_type": "markdown",
   "metadata": {},
   "source": [
    "#### Add more features\n",
    "\n",
    "1. Holidays\n",
    "2. Weather"
   ]
  },
  {
   "cell_type": "markdown",
   "metadata": {},
   "source": [
    "Because the list of holidays from 2014 to 2018 is known, you can create an indicator variable **is_holiday** to mark these.\n",
    "The hypothesis is that airplane delays could be higher during holidays compared to the rest of the days. Add a boolean variable `is_holiday` that includes the holidays for the years 2014-2018."
   ]
  },
  {
   "cell_type": "code",
   "execution_count": 184,
   "metadata": {},
   "outputs": [],
   "source": [
    "# Source: http://www.calendarpedia.com/holidays/federal-holidays-2014.html\n",
    "\n",
    "holidays_14 = ['2014-01-01',  '2014-01-20', '2014-02-17', '2014-05-26', '2014-07-04', '2014-09-01', '2014-10-13', '2014-11-11', '2014-11-27', '2014-12-25' ] \n",
    "holidays_15 = ['2015-01-01',  '2015-01-19', '2015-02-16', '2015-05-25', '2015-06-03', '2015-07-04', '2015-09-07', '2015-10-12', '2015-11-11', '2015-11-26', '2015-12-25'] \n",
    "holidays_16 = ['2016-01-01',  '2016-01-18', '2016-02-15', '2016-05-30', '2016-07-04', '2016-09-05', '2016-10-10', '2016-11-11', '2016-11-24', '2016-12-25', '2016-12-26']\n",
    "holidays_17 = ['2017-01-02', '2017-01-16', '2017-02-20', '2017-05-29' , '2017-07-04', '2017-09-04' ,'2017-10-09', '2017-11-10', '2017-11-23', '2017-12-25']\n",
    "holidays_18 = ['2018-01-01', '2018-01-15', '2018-02-19', '2018-05-28' , '2018-07-04', '2018-09-03' ,'2018-10-08', '2018-11-12','2018-11-22', '2018-12-25']\n",
    "holidays = holidays_14+ holidays_15+ holidays_16 + holidays_17+ holidays_18\n",
    "\n",
    "# Add indicator variable for holidays\n",
    "data_orig['is_holiday'] = data_orig['is_holiday'] = data_orig['FlightDate'].isin(holidays).astype(int)"
   ]
  },
  {
   "cell_type": "markdown",
   "metadata": {},
   "source": [
    "Weather data was fetched from [this link](https://www.ncei.noaa.gov/access/services/data/v1?dataset=daily-summaries&stations=USW00023174,USW00012960,USW00003017,USW00094846,USW00013874,USW00023234,USW00003927,USW00023183,USW00013881&dataTypes=AWND,PRCP,SNOW,SNWD,TAVG,TMIN,TMAX&startDate=2014-01-01&endDate=2018-12-31).\n",
    "<br>\n",
    "\n",
    "This dataset has information on wind speed, precipitation, snow, and temperature for cities by their airport codes.\n",
    "\n",
    "**Question**: Could bad weather due to rains, heavy winds, or snow lead to airplane delay? Let's check!"
   ]
  },
  {
   "cell_type": "code",
   "execution_count": 185,
   "metadata": {
    "scrolled": true
   },
   "outputs": [
    {
     "name": "stdout",
     "output_type": "stream",
     "text": [
      "(16434, 9)\n",
      "       STATION        DATE  AWND  PRCP  SNOW  SNWD   TAVG   TMAX   TMIN\n",
      "0  USW00023174  2014-01-01    16     0   NaN   NaN  131.0  178.0   78.0\n",
      "1  USW00023174  2014-01-02    22     0   NaN   NaN  159.0  256.0  100.0\n",
      "2  USW00023174  2014-01-03    17     0   NaN   NaN  140.0  178.0   83.0\n",
      "3  USW00023174  2014-01-04    18     0   NaN   NaN  136.0  183.0  100.0\n",
      "4  USW00023174  2014-01-05    18     0   NaN   NaN  151.0  244.0   83.0\n"
     ]
    }
   ],
   "source": [
    "# Set your local base path\n",
    "base_path = \".\"\n",
    "\n",
    "# Read weather data CSV from your local folder\n",
    "weather_data = pd.read_csv(f\"{base_path}\\\\daily-summaries-2025-10-26T19-10-37.csv\")\n",
    "\n",
    "# Define the output file path\n",
    "daily_weather_path = f\"{base_path}\\\\daily-summaries.csv\"\n",
    "\n",
    "# Save a copy into the same directory\n",
    "weather_data.to_csv(daily_weather_path, index=False)\n",
    "\n",
    "# Check shape and preview the first 5 rows\n",
    "print(weather_data.shape)\n",
    "print(weather_data.head(5))\n"
   ]
  },
  {
   "cell_type": "markdown",
   "metadata": {},
   "source": [
    "Import weather data prepared for the airport codes in our dataset. Use the stations and airports below for the analysis, and create a new column called `airport` that maps the weather station to the airport name."
   ]
  },
  {
   "cell_type": "code",
   "execution_count": 186,
   "metadata": {},
   "outputs": [],
   "source": [
    "weather = pd.read_csv(f\"{base_path}/daily-summaries.csv\")\n",
    "station = ['USW00023174','USW00012960','USW00003017','USW00094846',\n",
    "           'USW00013874','USW00023234','USW00003927','USW00023183','USW00013881'] \n",
    "airports = ['LAX', 'IAH', 'DEN', 'ORD', 'ATL', 'SFO', 'DFW', 'PHX', 'CLT']\n",
    "\n",
    "# Create a mapping between weather stations and airports\n",
    "station_map = dict(zip(station, airports))\n",
    "\n",
    "# Map station IDs in weather data to airport names\n",
    "weather['airport'] = weather['STATION'].map(station_map)\n"
   ]
  },
  {
   "cell_type": "markdown",
   "metadata": {},
   "source": [
    "Create another column called `MONTH` from the `DATE` column."
   ]
  },
  {
   "cell_type": "code",
   "execution_count": 187,
   "metadata": {
    "scrolled": true
   },
   "outputs": [
    {
     "data": {
      "text/html": [
       "<div>\n",
       "<style scoped>\n",
       "    .dataframe tbody tr th:only-of-type {\n",
       "        vertical-align: middle;\n",
       "    }\n",
       "\n",
       "    .dataframe tbody tr th {\n",
       "        vertical-align: top;\n",
       "    }\n",
       "\n",
       "    .dataframe thead th {\n",
       "        text-align: right;\n",
       "    }\n",
       "</style>\n",
       "<table border=\"1\" class=\"dataframe\">\n",
       "  <thead>\n",
       "    <tr style=\"text-align: right;\">\n",
       "      <th></th>\n",
       "      <th>STATION</th>\n",
       "      <th>DATE</th>\n",
       "      <th>AWND</th>\n",
       "      <th>PRCP</th>\n",
       "      <th>SNOW</th>\n",
       "      <th>SNWD</th>\n",
       "      <th>TAVG</th>\n",
       "      <th>TMAX</th>\n",
       "      <th>TMIN</th>\n",
       "      <th>airport</th>\n",
       "      <th>MONTH</th>\n",
       "    </tr>\n",
       "  </thead>\n",
       "  <tbody>\n",
       "    <tr>\n",
       "      <th>0</th>\n",
       "      <td>USW00023174</td>\n",
       "      <td>2014-01-01</td>\n",
       "      <td>16</td>\n",
       "      <td>0</td>\n",
       "      <td>NaN</td>\n",
       "      <td>NaN</td>\n",
       "      <td>131.0</td>\n",
       "      <td>178.0</td>\n",
       "      <td>78.0</td>\n",
       "      <td>LAX</td>\n",
       "      <td>01</td>\n",
       "    </tr>\n",
       "    <tr>\n",
       "      <th>1</th>\n",
       "      <td>USW00023174</td>\n",
       "      <td>2014-01-02</td>\n",
       "      <td>22</td>\n",
       "      <td>0</td>\n",
       "      <td>NaN</td>\n",
       "      <td>NaN</td>\n",
       "      <td>159.0</td>\n",
       "      <td>256.0</td>\n",
       "      <td>100.0</td>\n",
       "      <td>LAX</td>\n",
       "      <td>01</td>\n",
       "    </tr>\n",
       "    <tr>\n",
       "      <th>2</th>\n",
       "      <td>USW00023174</td>\n",
       "      <td>2014-01-03</td>\n",
       "      <td>17</td>\n",
       "      <td>0</td>\n",
       "      <td>NaN</td>\n",
       "      <td>NaN</td>\n",
       "      <td>140.0</td>\n",
       "      <td>178.0</td>\n",
       "      <td>83.0</td>\n",
       "      <td>LAX</td>\n",
       "      <td>01</td>\n",
       "    </tr>\n",
       "    <tr>\n",
       "      <th>3</th>\n",
       "      <td>USW00023174</td>\n",
       "      <td>2014-01-04</td>\n",
       "      <td>18</td>\n",
       "      <td>0</td>\n",
       "      <td>NaN</td>\n",
       "      <td>NaN</td>\n",
       "      <td>136.0</td>\n",
       "      <td>183.0</td>\n",
       "      <td>100.0</td>\n",
       "      <td>LAX</td>\n",
       "      <td>01</td>\n",
       "    </tr>\n",
       "    <tr>\n",
       "      <th>4</th>\n",
       "      <td>USW00023174</td>\n",
       "      <td>2014-01-05</td>\n",
       "      <td>18</td>\n",
       "      <td>0</td>\n",
       "      <td>NaN</td>\n",
       "      <td>NaN</td>\n",
       "      <td>151.0</td>\n",
       "      <td>244.0</td>\n",
       "      <td>83.0</td>\n",
       "      <td>LAX</td>\n",
       "      <td>01</td>\n",
       "    </tr>\n",
       "  </tbody>\n",
       "</table>\n",
       "</div>"
      ],
      "text/plain": [
       "       STATION        DATE  AWND  PRCP  SNOW  SNWD   TAVG   TMAX   TMIN  \\\n",
       "0  USW00023174  2014-01-01    16     0   NaN   NaN  131.0  178.0   78.0   \n",
       "1  USW00023174  2014-01-02    22     0   NaN   NaN  159.0  256.0  100.0   \n",
       "2  USW00023174  2014-01-03    17     0   NaN   NaN  140.0  178.0   83.0   \n",
       "3  USW00023174  2014-01-04    18     0   NaN   NaN  136.0  183.0  100.0   \n",
       "4  USW00023174  2014-01-05    18     0   NaN   NaN  151.0  244.0   83.0   \n",
       "\n",
       "  airport MONTH  \n",
       "0     LAX    01  \n",
       "1     LAX    01  \n",
       "2     LAX    01  \n",
       "3     LAX    01  \n",
       "4     LAX    01  "
      ]
     },
     "execution_count": 187,
     "metadata": {},
     "output_type": "execute_result"
    }
   ],
   "source": [
    "weather['MONTH'] = weather['DATE'].apply(lambda x: x.split('-')[1]) \n",
    "weather.head()"
   ]
  },
  {
   "cell_type": "markdown",
   "metadata": {},
   "source": [
    "### Sample output\n",
    "```\n",
    "  STATION     DATE      AWND PRCP SNOW SNWD TAVG TMAX  TMIN airport MONTH\n",
    "0 USW00023174 2014-01-01 16   0   NaN  NaN 131.0 178.0 78.0  LAX    01\n",
    "1 USW00023174 2014-01-02 22   0   NaN  NaN 159.0 256.0 100.0 LAX    01\n",
    "2 USW00023174 2014-01-03 17   0   NaN  NaN 140.0 178.0 83.0  LAX    01\n",
    "3 USW00023174 2014-01-04 18   0   NaN  NaN 136.0 183.0 100.0 LAX    01\n",
    "4 USW00023174 2014-01-05 18   0   NaN  NaN 151.0 244.0 83.0  LAX    01\n",
    "```"
   ]
  },
  {
   "cell_type": "markdown",
   "metadata": {},
   "source": [
    "Analyze and handle the `SNOW` and `SNWD` columns for missing values using `fillna()`. Use the `isna()` function to check the missing values for all the columns."
   ]
  },
  {
   "cell_type": "code",
   "execution_count": 188,
   "metadata": {
    "scrolled": true
   },
   "outputs": [
    {
     "data": {
      "text/plain": [
       "STATION     0\n",
       "DATE        0\n",
       "AWND        0\n",
       "PRCP        0\n",
       "SNOW        0\n",
       "SNWD        0\n",
       "TAVG       62\n",
       "TMAX       20\n",
       "TMIN       20\n",
       "airport     0\n",
       "MONTH       0\n",
       "dtype: int64"
      ]
     },
     "execution_count": 188,
     "metadata": {},
     "output_type": "execute_result"
    }
   ],
   "source": [
    "weather.SNOW.fillna(0, inplace=True)\n",
    "weather.SNWD.fillna(0, inplace=True)\n",
    "weather.isna().sum()"
   ]
  },
  {
   "cell_type": "markdown",
   "metadata": {},
   "source": [
    "**Question**: Print the index of the rows that have missing values for TAVG, TMAX, TMIN.\n",
    "\n",
    "**Hint**: Use the `isna()` function to find the rows that are missing, and then use the list on the idx variable to get the index."
   ]
  },
  {
   "cell_type": "code",
   "execution_count": 189,
   "metadata": {},
   "outputs": [
    {
     "data": {
      "text/plain": [
       "array([ 3956,  3957,  3958,  3959,  3960,  3961,  3962,  3963,  3964,\n",
       "        3965,  3966,  3967,  3968,  3969,  3970,  3971,  3972,  3973,\n",
       "        3974,  3975,  3976,  3977,  3978,  3979,  3980,  3981,  3982,\n",
       "        3983,  3984,  3985,  4017,  4018,  4019,  4020,  4021,  4022,\n",
       "        4023,  4024,  4025,  4026,  4027,  4028,  4029,  4030,  4031,\n",
       "        4032,  4033,  4034,  4035,  4036,  4037,  4038,  4039,  4040,\n",
       "        4041,  4042,  4043,  4044,  4045,  4046,  4047, 13420])"
      ]
     },
     "execution_count": 189,
     "metadata": {},
     "output_type": "execute_result"
    }
   ],
   "source": [
    "idx = np.array([i for i in range(len(weather))])\n",
    "TAVG_idx = idx[weather['TAVG'].isna()]\n",
    "TMAX_idx = idx[weather['TMAX'].isna()]\n",
    "TMIN_idx = idx[weather['TMIN'].isna()]\n",
    "TAVG_idx"
   ]
  },
  {
   "cell_type": "markdown",
   "metadata": {},
   "source": [
    "### Sample output\n",
    "\n",
    "```\n",
    "array([ 3956,  3957,  3958,  3959,  3960,  3961,  3962,  3963,  3964,\n",
    "        3965,  3966,  3967,  3968,  3969,  3970,  3971,  3972,  3973,\n",
    "        3974,  3975,  3976,  3977,  3978,  3979,  3980,  3981,  3982,\n",
    "        3983,  3984,  3985,  4017,  4018,  4019,  4020,  4021,  4022,\n",
    "        4023,  4024,  4025,  4026,  4027,  4028,  4029,  4030,  4031,\n",
    "        4032,  4033,  4034,  4035,  4036,  4037,  4038,  4039,  4040,\n",
    "        4041,  4042,  4043,  4044,  4045,  4046,  4047, 13420])\n",
    "```"
   ]
  },
  {
   "cell_type": "markdown",
   "metadata": {},
   "source": [
    "You can replace the missing TAVG, TMAX, and TMIN with the average value for a particular station/airport. Because the consecutive rows of TAVG_idx are missing, replacing with a previous value would not be possible. Instead, replace it with the mean. Use the `groupby` function to aggregate the variables with a mean value."
   ]
  },
  {
   "cell_type": "code",
   "execution_count": 190,
   "metadata": {},
   "outputs": [
    {
     "data": {
      "text/html": [
       "<div>\n",
       "<style scoped>\n",
       "    .dataframe tbody tr th:only-of-type {\n",
       "        vertical-align: middle;\n",
       "    }\n",
       "\n",
       "    .dataframe tbody tr th {\n",
       "        vertical-align: top;\n",
       "    }\n",
       "\n",
       "    .dataframe thead th {\n",
       "        text-align: right;\n",
       "    }\n",
       "</style>\n",
       "<table border=\"1\" class=\"dataframe\">\n",
       "  <thead>\n",
       "    <tr style=\"text-align: right;\">\n",
       "      <th></th>\n",
       "      <th>STATION</th>\n",
       "      <th>MONTH</th>\n",
       "      <th>TAVG</th>\n",
       "      <th>TMAX</th>\n",
       "      <th>TMIN</th>\n",
       "    </tr>\n",
       "  </thead>\n",
       "  <tbody>\n",
       "    <tr>\n",
       "      <th>0</th>\n",
       "      <td>USW00003017</td>\n",
       "      <td>01</td>\n",
       "      <td>-2.741935</td>\n",
       "      <td>74.000000</td>\n",
       "      <td>-69.858065</td>\n",
       "    </tr>\n",
       "    <tr>\n",
       "      <th>1</th>\n",
       "      <td>USW00003017</td>\n",
       "      <td>02</td>\n",
       "      <td>11.219858</td>\n",
       "      <td>88.553191</td>\n",
       "      <td>-65.035461</td>\n",
       "    </tr>\n",
       "  </tbody>\n",
       "</table>\n",
       "</div>"
      ],
      "text/plain": [
       "       STATION MONTH       TAVG       TMAX       TMIN\n",
       "0  USW00003017    01  -2.741935  74.000000 -69.858065\n",
       "1  USW00003017    02  11.219858  88.553191 -65.035461"
      ]
     },
     "execution_count": 190,
     "metadata": {},
     "output_type": "execute_result"
    }
   ],
   "source": [
    "weather_impute = weather.groupby(['STATION','MONTH']).agg({'TAVG':'mean','TMAX':'mean', 'TMIN':'mean' }).reset_index()\n",
    "weather_impute.head(2)"
   ]
  },
  {
   "cell_type": "markdown",
   "metadata": {},
   "source": [
    "Merge the mean data with the weather data."
   ]
  },
  {
   "cell_type": "code",
   "execution_count": 191,
   "metadata": {},
   "outputs": [],
   "source": [
    "### get the yesterday's data\n",
    "weather = pd.merge(weather, weather_impute,  how='left', left_on=['MONTH','STATION'], right_on = ['MONTH','STATION'])\\\n",
    ".rename(columns = {'TAVG_y':'TAVG_AVG',\n",
    "                   'TMAX_y':'TMAX_AVG', \n",
    "                   'TMIN_y':'TMIN_AVG',\n",
    "                   'TAVG_x':'TAVG',\n",
    "                   'TMAX_x':'TMAX', \n",
    "                   'TMIN_x':'TMIN'})"
   ]
  },
  {
   "cell_type": "markdown",
   "metadata": {},
   "source": [
    "Check for missing values again."
   ]
  },
  {
   "cell_type": "code",
   "execution_count": 192,
   "metadata": {},
   "outputs": [
    {
     "data": {
      "text/plain": [
       "STATION     0\n",
       "DATE        0\n",
       "AWND        0\n",
       "PRCP        0\n",
       "SNOW        0\n",
       "SNWD        0\n",
       "TAVG        0\n",
       "TMAX        0\n",
       "TMIN        0\n",
       "airport     0\n",
       "MONTH       0\n",
       "TAVG_AVG    0\n",
       "TMAX_AVG    0\n",
       "TMIN_AVG    0\n",
       "dtype: int64"
      ]
     },
     "execution_count": 192,
     "metadata": {},
     "output_type": "execute_result"
    }
   ],
   "source": [
    "weather.TAVG[TAVG_idx] = weather.TAVG_AVG[TAVG_idx]\n",
    "weather.TMAX[TMAX_idx] = weather.TMAX_AVG[TMAX_idx]\n",
    "weather.TMIN[TMIN_idx] = weather.TMIN_AVG[TMIN_idx]\n",
    "weather.isna().sum()"
   ]
  },
  {
   "cell_type": "markdown",
   "metadata": {},
   "source": [
    "Drop `STATION,MONTH,TAVG_AVG,TMAX_AVG,TMIN_AVG,TMAX,TMIN,SNWD` from the dataset"
   ]
  },
  {
   "cell_type": "code",
   "execution_count": 193,
   "metadata": {},
   "outputs": [],
   "source": [
    "weather.drop(columns=['STATION','MONTH','TAVG_AVG', 'TMAX_AVG', 'TMIN_AVG', 'TMAX' ,'TMIN', 'SNWD'],inplace=True)"
   ]
  },
  {
   "cell_type": "markdown",
   "metadata": {},
   "source": [
    "Add the origin and destination weather conditions to the dataset."
   ]
  },
  {
   "cell_type": "code",
   "execution_count": 194,
   "metadata": {},
   "outputs": [],
   "source": [
    "### Add origin weather conditions\n",
    "data_orig = pd.merge(data_orig, weather,  how='left', left_on=['FlightDate','Origin'], right_on = ['DATE','airport'])\\\n",
    ".rename(columns = {'AWND':'AWND_O','PRCP':'PRCP_O', 'TAVG':'TAVG_O', 'SNOW': 'SNOW_O'})\\\n",
    ".drop(columns=['DATE','airport'])\n",
    "\n",
    "### Add destination weather conditions\n",
    "data_orig = pd.merge(data_orig, weather,  how='left', left_on=['FlightDate','Dest'], right_on = ['DATE','airport'])\\\n",
    ".rename(columns = {'AWND':'AWND_D','PRCP':'PRCP_D', 'TAVG':'TAVG_D', 'SNOW': 'SNOW_D'})\\\n",
    ".drop(columns=['DATE','airport'])"
   ]
  },
  {
   "cell_type": "markdown",
   "metadata": {},
   "source": [
    "**Note**: It is always a good practice to check nulls/NAs after joins."
   ]
  },
  {
   "cell_type": "code",
   "execution_count": 195,
   "metadata": {},
   "outputs": [
    {
     "data": {
      "text/plain": [
       "0"
      ]
     },
     "execution_count": 195,
     "metadata": {},
     "output_type": "execute_result"
    }
   ],
   "source": [
    "sum(data.isna().any())"
   ]
  },
  {
   "cell_type": "code",
   "execution_count": 198,
   "metadata": {},
   "outputs": [
    {
     "data": {
      "text/plain": [
       "Index(['Year', 'Quarter', 'Month', 'DayofMonth', 'DayOfWeek', 'FlightDate',\n",
       "       'Reporting_Airline', 'Origin', 'OriginState', 'Dest', 'DestState',\n",
       "       'CRSDepTime', 'ArrDelay', 'ArrDelayMinutes', 'is_delay', 'Cancelled',\n",
       "       'Diverted', 'AirTime', 'Distance', 'DistanceGroup', 'DepHourofDay',\n",
       "       'is_holiday', 'AWND_O', 'PRCP_O', 'SNOW_O', 'TAVG_O', 'AWND_D',\n",
       "       'PRCP_D', 'SNOW_D', 'TAVG_D', 'AWND_O', 'PRCP_O', 'SNOW_O', 'TAVG_O',\n",
       "       'AWND_D', 'PRCP_D', 'SNOW_D', 'TAVG_D', 'AWND_O', 'PRCP_O', 'SNOW_O',\n",
       "       'TAVG_O', 'AWND_D', 'PRCP_D', 'SNOW_D', 'TAVG_D'],\n",
       "      dtype='object')"
      ]
     },
     "execution_count": 198,
     "metadata": {},
     "output_type": "execute_result"
    }
   ],
   "source": [
    "data_orig.columns"
   ]
  },
  {
   "cell_type": "markdown",
   "metadata": {},
   "source": [
    "Convert the categorical data into numerical data using one-hot encoding."
   ]
  },
  {
   "cell_type": "code",
   "execution_count": 199,
   "metadata": {},
   "outputs": [],
   "source": [
    "data = data_orig.copy()\n",
    "data = data[['is_delay', 'Year', 'Quarter', 'Month', 'DayofMonth', 'DayOfWeek', \n",
    "       'Reporting_Airline', 'Origin', 'Dest','Distance','DepHourofDay','is_holiday', 'AWND_O', 'PRCP_O',\n",
    "       'TAVG_O', 'AWND_D', 'PRCP_D', 'TAVG_D', 'SNOW_O', 'SNOW_D']]\n",
    "\n",
    "\n",
    "categorical_columns  = ['Year', 'Quarter', 'Month', 'DayofMonth', 'DayOfWeek', \n",
    "       'Reporting_Airline', 'Origin', 'Dest', 'is_holiday']\n",
    "for c in categorical_columns:\n",
    "    data[c] = data[c].astype('category')"
   ]
  },
  {
   "cell_type": "code",
   "execution_count": 200,
   "metadata": {},
   "outputs": [],
   "source": [
    "# Generate dummy variables for categorical columns\n",
    "data_dummies = pd.get_dummies(data[categorical_columns], drop_first=True)\n",
    "\n",
    "# Combine dummy variables with the main dataframe, removing original categorical columns\n",
    "data = pd.concat([data.drop(columns=categorical_columns), data_dummies], axis=1)\n"
   ]
  },
  {
   "cell_type": "markdown",
   "metadata": {},
   "source": [
    "### Sample code\n",
    "\n",
    "```\n",
    "data_dummies = pd.get_dummies(data[['Year', 'Quarter', 'Month', 'DayofMonth', 'DayOfWeek', 'Reporting_Airline', 'Origin', 'Dest', 'is_holiday']], drop_first=True)\n",
    "data = pd.concat([data, data_dummies], axis = 1)\n",
    "categorical_columns.remove('is_delay')\n",
    "data.drop(categorical_columns,axis=1, inplace=True)\n",
    "```"
   ]
  },
  {
   "cell_type": "markdown",
   "metadata": {},
   "source": [
    "Check the new columns."
   ]
  },
  {
   "cell_type": "code",
   "execution_count": 201,
   "metadata": {},
   "outputs": [
    {
     "data": {
      "text/plain": [
       "Index(['is_delay', 'Distance', 'DepHourofDay', 'AWND_O', 'AWND_O', 'AWND_O',\n",
       "       'PRCP_O', 'PRCP_O', 'PRCP_O', 'TAVG_O',\n",
       "       ...\n",
       "       'Origin_SFO', 'Dest_CLT', 'Dest_DEN', 'Dest_DFW', 'Dest_IAH',\n",
       "       'Dest_LAX', 'Dest_ORD', 'Dest_PHX', 'Dest_SFO', 'is_holiday_1'],\n",
       "      dtype='object', length=102)"
      ]
     },
     "execution_count": 201,
     "metadata": {},
     "output_type": "execute_result"
    }
   ],
   "source": [
    "data.columns"
   ]
  },
  {
   "cell_type": "markdown",
   "metadata": {},
   "source": [
    "### Sample output\n",
    "\n",
    "```\n",
    "Index(['Distance', 'DepHourofDay', 'is_delay', 'AWND_O', 'PRCP_O', 'TAVG_O',\n",
    "       'AWND_D', 'PRCP_D', 'TAVG_D', 'SNOW_O', 'SNOW_D', 'Year_2015',\n",
    "       'Year_2016', 'Year_2017', 'Year_2018', 'Quarter_2', 'Quarter_3',\n",
    "       'Quarter_4', 'Month_2', 'Month_3', 'Month_4', 'Month_5', 'Month_6',\n",
    "       'Month_7', 'Month_8', 'Month_9', 'Month_10', 'Month_11', 'Month_12',\n",
    "       'DayofMonth_2', 'DayofMonth_3', 'DayofMonth_4', 'DayofMonth_5',\n",
    "       'DayofMonth_6', 'DayofMonth_7', 'DayofMonth_8', 'DayofMonth_9',\n",
    "       'DayofMonth_10', 'DayofMonth_11', 'DayofMonth_12', 'DayofMonth_13',\n",
    "       'DayofMonth_14', 'DayofMonth_15', 'DayofMonth_16', 'DayofMonth_17',\n",
    "       'DayofMonth_18', 'DayofMonth_19', 'DayofMonth_20', 'DayofMonth_21',\n",
    "       'DayofMonth_22', 'DayofMonth_23', 'DayofMonth_24', 'DayofMonth_25',\n",
    "       'DayofMonth_26', 'DayofMonth_27', 'DayofMonth_28', 'DayofMonth_29',\n",
    "       'DayofMonth_30', 'DayofMonth_31', 'DayOfWeek_2', 'DayOfWeek_3',\n",
    "       'DayOfWeek_4', 'DayOfWeek_5', 'DayOfWeek_6', 'DayOfWeek_7',\n",
    "       'Reporting_Airline_DL', 'Reporting_Airline_OO', 'Reporting_Airline_UA',\n",
    "       'Reporting_Airline_WN', 'Origin_CLT', 'Origin_DEN', 'Origin_DFW',\n",
    "       'Origin_IAH', 'Origin_LAX', 'Origin_ORD', 'Origin_PHX', 'Origin_SFO',\n",
    "       'Dest_CLT', 'Dest_DEN', 'Dest_DFW', 'Dest_IAH', 'Dest_LAX', 'Dest_ORD',\n",
    "       'Dest_PHX', 'Dest_SFO', 'is_holiday_1'],\n",
    "      dtype='object')\n",
    "```"
   ]
  },
  {
   "cell_type": "markdown",
   "metadata": {},
   "source": [
    "Rename the `is_delay` column to `target` again. Use the same code as before."
   ]
  },
  {
   "cell_type": "code",
   "execution_count": 202,
   "metadata": {},
   "outputs": [],
   "source": [
    "data.rename(columns = {'is_delay':'target'}, inplace=True )"
   ]
  },
  {
   "cell_type": "code",
   "execution_count": 203,
   "metadata": {},
   "outputs": [
    {
     "name": "stdout",
     "output_type": "stream",
     "text": [
      "Combined CSV file saved as D:\\data\\combined_csv_v2.csv\n"
     ]
    }
   ],
   "source": [
    "# Save the combined CSV file\n",
    "combined_csv_filename = 'D:\\data\\combined_csv_v2.csv'\n",
    "data.to_csv(combined_csv_filename, index=False)\n",
    "print(f\"Combined CSV file saved as {combined_csv_filename}\")"
   ]
  },
  {
   "cell_type": "markdown",
   "metadata": {},
   "source": [
    "Create the training and testing sets again."
   ]
  },
  {
   "cell_type": "code",
   "execution_count": 205,
   "metadata": {},
   "outputs": [],
   "source": [
    "# Load the dataset\n",
    "logreg_v2 = pd.read_csv(\"D:\\data\\combined_csv_v2.csv\")\n",
    "\n",
    "# Prepare features and target\n",
    "X = logreg_v2.drop(columns=['target'])\n",
    "y = logreg_v2['target']\n",
    "\n",
    "# Split into training and testing sets\n",
    "X_train, X_test, y_train, y_test = train_test_split(\n",
    "    X, y, test_size=0.2, random_state=42\n",
    ")\n"
   ]
  },
  {
   "cell_type": "markdown",
   "metadata": {},
   "source": [
    "### New baseline classifier\n",
    "\n",
    "Now, see if these new features add any predictive power to the model."
   ]
  },
  {
   "cell_type": "code",
   "execution_count": 207,
   "metadata": {},
   "outputs": [
    {
     "name": "stdout",
     "output_type": "stream",
     "text": [
      "              precision    recall  f1-score   support\n",
      "\n",
      "    No Delay       0.79      0.99      0.88    258421\n",
      "       Delay       0.48      0.03      0.06     68697\n",
      "\n",
      "    accuracy                           0.79    327118\n",
      "   macro avg       0.64      0.51      0.47    327118\n",
      "weighted avg       0.73      0.79      0.71    327118\n",
      "\n"
     ]
    }
   ],
   "source": [
    "# Instantiate another logistic regression model\n",
    "classifier2 = LogisticRegression()\n",
    "classifier2.fit(X_train, y_train)\n",
    "y_pred = classifier2.predict(X_test)\n",
    "print(classification_report(y_test, y_pred, target_names=['No Delay', 'Delay']))"
   ]
  },
  {
   "cell_type": "code",
   "execution_count": 208,
   "metadata": {},
   "outputs": [
    {
     "data": {
      "image/png": "[encoded data removed]",
      "text/plain": [
       "<Figure size 600x500 with 2 Axes>"
      ]
     },
     "metadata": {},
     "output_type": "display_data"
    }
   ],
   "source": [
    "# Plotting confusion matrix\n",
    "plot_confusion_matrix(y_test, y_pred)"
   ]
  },
  {
   "cell_type": "code",
   "execution_count": 209,
   "metadata": {},
   "outputs": [
    {
     "data": {
      "image/png": "[encoded data removed]",
      "text/plain": [
       "<Figure size 640x480 with 1 Axes>"
      ]
     },
     "metadata": {},
     "output_type": "display_data"
    }
   ],
   "source": [
    "# plotting roc\n",
    "plot_roc(y_test, y_pred)"
   ]
  },
  {
   "cell_type": "code",
   "execution_count": 210,
   "metadata": {},
   "outputs": [
    {
     "name": "stdout",
     "output_type": "stream",
     "text": [
      "Train Accuracy: 0.7899\n",
      "Test Accuracy: 0.7895\n",
      "Recall: 0.9912\n",
      "Precision: 0.7937\n",
      "Sensitivity: 0.9912\n",
      "Specificity: 0.0310\n",
      "F1 Score: 0.8815\n"
     ]
    }
   ],
   "source": [
    "# Confusion matrix\n",
    "confusion = confusion_matrix(y_test, y_pred)\n",
    "\n",
    "# Calculate metrics\n",
    "train_accuracy = metrics.accuracy_score(y_train, classifier2.predict(X_train))\n",
    "test_accuracy = metrics.accuracy_score(y_test, classifier2.predict(X_test))\n",
    "\n",
    "# Metric calculations\n",
    "recall = confusion[0, 0] / sum(confusion[0])\n",
    "precision = confusion[0, 0] / (confusion[0, 0] + confusion[1, 0])\n",
    "sensitivity = recall\n",
    "specificity = confusion[1, 1] / sum(confusion[1])\n",
    "f1_score = confusion[0, 0] / (confusion[0, 0] + 0.5 * (confusion[1, 0] + confusion[0, 1]))\n",
    "\n",
    "# Print results\n",
    "for label, value in {\n",
    "    \"Train Accuracy\": train_accuracy,\n",
    "    \"Test Accuracy\": test_accuracy,\n",
    "    \"Recall\": recall,\n",
    "    \"Precision\": precision,\n",
    "    \"Sensitivity\": sensitivity,\n",
    "    \"Specificity\": specificity,\n",
    "    \"F1 Score\": f1_score,\n",
    "}.items():\n",
    "    print(f\"{label}: {value:.4f}\")\n"
   ]
  },
  {
   "cell_type": "markdown",
   "metadata": {},
   "source": [
    "Perform the evaluaion as you have done with the previous model and plot/show the same metrics"
   ]
  },
  {
   "cell_type": "markdown",
   "metadata": {},
   "source": [
    "Question: did you notice a difference by adding the extra data on the results?"
   ]
  },
  {
   "cell_type": "markdown",
   "metadata": {},
   "source": [
    "**Answer:**  \n",
    "Yes. This improved model performs better after adding more data.  \n",
    "The **specificity** increased from **0%** to **3%**, showing that the model can now correctly identify some **non-delayed flights**.\n",
    "\n"
   ]
  },
  {
   "cell_type": "markdown",
   "metadata": {},
   "source": [
    "# Step 6: Using Tableau\n",
    "\n",
    "Use Tableau to load the combined_csv_v2.csv file and build a dashboard that show your understanding of the data and business problem. \n",
    "### what to do:\n",
    "1. Load the data into Tableau and build the dashboard\n",
    "2. Share the dashboard on your Tableau public account \n",
    "3. Copy the link of the shared dashboard below\n",
    "\n",
    "Note: The dashboard needs to be self explainable to others, so make it simple and add only the features that you feel heighlight the main question(s) of the prblem statement."
   ]
  },
  {
   "cell_type": "markdown",
   "metadata": {},
   "source": [
    "https://public.tableau.com/views/AirplaneDelays_17616482247790/Dashboard1?:language=zh-CN&:sid=&:redirect=auth&:display_count=n&:origin=viz_share_link"
   ]
  },
  {
   "cell_type": "markdown",
   "metadata": {},
   "source": [
    "## Conclusion\n",
    "\n",
    "You've now gone through at least a couple iterations of training and evaluating your model. It's time to wrap up this project and reflect on what you've learned and what types of steps you might take moving forward (assuming you had more time). Use the cell below to answer some of these and other relevant questions:\n",
    "\n",
    "1. Does your model performance meet your business goal? If not, what are some things you'd like to do differently if you had more time for tuning?\n",
    "2. To what extent did your model improve as you made changes to your dataset? What types of techniques did you employ throughout this project that you felt yielded the greatest improvements in your model?\n",
    "3. What were some of the biggest challenges you encountered throughout this project?\n",
    "4. What were the three most important things you learned about machine learning while completing this project?"
   ]
  },
  {
   "cell_type": "markdown",
   "metadata": {},
   "source": [
    "In this project, I trained, tested, and improved my machine learning model many times to predict flight delays. This process helped me understand how to build a model and why it should match the business goal.\n",
    "\n",
    "---\n",
    "\n",
    "### **1. Model performance and business goal**\n",
    "\n",
    "The model has fair accuracy and precision but low recall. It can find most on-time flights but misses many delayed ones.  \n",
    "This does not fully meet the goal of warning customers about possible flight delays.  \n",
    "\n",
    "If I had more time, I would:\n",
    "- Do **hyperparameter tuning**\n",
    "- Add **better features**\n",
    "- Fix **data imbalance** (with SMOTE or class weights)  \n",
    "\n",
    "These steps could help increase recall without losing much precision.\n",
    "\n",
    "### **2. Model improvement from data changes**\n",
    "\n",
    "The model got better after I cleaned and fixed the dataset. I:\n",
    "- Removed missing values  \n",
    "- Changed text to numbers for categories  \n",
    "- Scaled numeric values  \n",
    "\n",
    "I also added new features like **month**, **day of week**, and **departure hour** to help the model find time patterns linked to delays.  \n",
    "Among all methods, **feature selection** and **data cleaning** made the biggest difference in accuracy and clarity.\n",
    "\n",
    "### **3. Main challenges**\n",
    "\n",
    "One big challenge was **class imbalance**, because delayed flights were few.  \n",
    "\n",
    "I also faced problems when uploading data to **AWS S3** and setting **SageMaker permissions**.  \n",
    "Solving these showed me how important **data setup** and **environment configuration** are in real projects.\n",
    "\n",
    "### **4. Key lessons about machine learning**\n",
    "\n",
    "- Machine learning improves step by step through testing and checking.  \n",
    "- **Good data** and **clean preparation** matter more than which algorithm you use.  \n",
    "- You must look at **precision**, **recall**, and **F1 score** in relation to the business goal, not just accuracy.  \n"
   ]
  },
  {
   "cell_type": "code",
   "execution_count": null,
   "metadata": {},
   "outputs": [],
   "source": []
  }
 ],
 "metadata": {
  "kernelspec": {
   "display_name": "Python [conda env:base] *",
   "language": "python",
   "name": "conda-base-py"
  },
  "language_info": {
   "codemirror_mode": {
    "name": "ipython",
    "version": 3
   },
   "file_extension": ".py",
   "mimetype": "text/x-python",
   "name": "python",
   "nbconvert_exporter": "python",
   "pygments_lexer": "ipython3",
   "version": "3.13.5"
  }
 },
 "nbformat": 4,
 "nbformat_minor": 4
}
